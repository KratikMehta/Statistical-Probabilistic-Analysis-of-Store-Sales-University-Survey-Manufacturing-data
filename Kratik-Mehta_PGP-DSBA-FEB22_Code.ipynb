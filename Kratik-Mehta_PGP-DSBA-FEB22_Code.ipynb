{
 "cells": [
  {
   "cell_type": "code",
   "execution_count": 1,
   "id": "914e6098",
   "metadata": {
    "ExecuteTime": {
     "end_time": "2023-01-10T13:52:40.093310Z",
     "start_time": "2023-01-10T13:52:37.961271Z"
    }
   },
   "outputs": [],
   "source": [
    "%matplotlib inline\n",
    "%precision 3\n",
    "\n",
    "import numpy as np\n",
    "import pandas as pd\n",
    "import matplotlib.pyplot as plt\n",
    "import matplotlib_inline\n",
    "import seaborn as sns\n",
    "from scipy import stats\n",
    "\n",
    "# matplotlib_inline.backend_inline.set_matplotlib_formats('pdf', 'svg')\n",
    "plt.style.use('ggplot')"
   ]
  },
  {
   "cell_type": "markdown",
   "id": "360014c2",
   "metadata": {
    "tags": [],
    "toc-hr-collapsed": true
   },
   "source": [
    "# Problem 1"
   ]
  },
  {
   "cell_type": "markdown",
   "id": "6b0bb62e",
   "metadata": {},
   "source": [
    "A wholesale distributor operating in different regions of Portugal has information on annual spending of several items in their stores across different regions and channels. The data consists of 440 large retailers’ annual spending on 6 different varieties of products in 3 different regions (Lisbon, Oporto, Other) and across different sales channel (Hotel, Retail)."
   ]
  },
  {
   "cell_type": "markdown",
   "id": "b5bc5a79",
   "metadata": {},
   "source": [
    "## Sample of the Wholesale Customers Dataset"
   ]
  },
  {
   "cell_type": "code",
   "execution_count": 2,
   "id": "3af40291",
   "metadata": {
    "ExecuteTime": {
     "end_time": "2023-01-10T13:52:40.140990Z",
     "start_time": "2023-01-10T13:52:40.093310Z"
    }
   },
   "outputs": [
    {
     "data": {
      "text/html": [
       "<div>\n",
       "<style scoped>\n",
       "    .dataframe tbody tr th:only-of-type {\n",
       "        vertical-align: middle;\n",
       "    }\n",
       "\n",
       "    .dataframe tbody tr th {\n",
       "        vertical-align: top;\n",
       "    }\n",
       "\n",
       "    .dataframe thead th {\n",
       "        text-align: right;\n",
       "    }\n",
       "</style>\n",
       "<table border=\"1\" class=\"dataframe\">\n",
       "  <thead>\n",
       "    <tr style=\"text-align: right;\">\n",
       "      <th></th>\n",
       "      <th>Buyer/Spender</th>\n",
       "      <th>Channel</th>\n",
       "      <th>Region</th>\n",
       "      <th>Fresh</th>\n",
       "      <th>Milk</th>\n",
       "      <th>Grocery</th>\n",
       "      <th>Frozen</th>\n",
       "      <th>Detergents_Paper</th>\n",
       "      <th>Delicatessen</th>\n",
       "    </tr>\n",
       "  </thead>\n",
       "  <tbody>\n",
       "    <tr>\n",
       "      <th>0</th>\n",
       "      <td>1</td>\n",
       "      <td>Retail</td>\n",
       "      <td>Other</td>\n",
       "      <td>12669</td>\n",
       "      <td>9656</td>\n",
       "      <td>7561</td>\n",
       "      <td>214</td>\n",
       "      <td>2674</td>\n",
       "      <td>1338</td>\n",
       "    </tr>\n",
       "    <tr>\n",
       "      <th>1</th>\n",
       "      <td>2</td>\n",
       "      <td>Retail</td>\n",
       "      <td>Other</td>\n",
       "      <td>7057</td>\n",
       "      <td>9810</td>\n",
       "      <td>9568</td>\n",
       "      <td>1762</td>\n",
       "      <td>3293</td>\n",
       "      <td>1776</td>\n",
       "    </tr>\n",
       "    <tr>\n",
       "      <th>2</th>\n",
       "      <td>3</td>\n",
       "      <td>Retail</td>\n",
       "      <td>Other</td>\n",
       "      <td>6353</td>\n",
       "      <td>8808</td>\n",
       "      <td>7684</td>\n",
       "      <td>2405</td>\n",
       "      <td>3516</td>\n",
       "      <td>7844</td>\n",
       "    </tr>\n",
       "    <tr>\n",
       "      <th>3</th>\n",
       "      <td>4</td>\n",
       "      <td>Hotel</td>\n",
       "      <td>Other</td>\n",
       "      <td>13265</td>\n",
       "      <td>1196</td>\n",
       "      <td>4221</td>\n",
       "      <td>6404</td>\n",
       "      <td>507</td>\n",
       "      <td>1788</td>\n",
       "    </tr>\n",
       "    <tr>\n",
       "      <th>4</th>\n",
       "      <td>5</td>\n",
       "      <td>Retail</td>\n",
       "      <td>Other</td>\n",
       "      <td>22615</td>\n",
       "      <td>5410</td>\n",
       "      <td>7198</td>\n",
       "      <td>3915</td>\n",
       "      <td>1777</td>\n",
       "      <td>5185</td>\n",
       "    </tr>\n",
       "  </tbody>\n",
       "</table>\n",
       "</div>"
      ],
      "text/plain": [
       "   Buyer/Spender Channel Region  Fresh  Milk  Grocery  Frozen  \\\n",
       "0              1  Retail  Other  12669  9656     7561     214   \n",
       "1              2  Retail  Other   7057  9810     9568    1762   \n",
       "2              3  Retail  Other   6353  8808     7684    2405   \n",
       "3              4   Hotel  Other  13265  1196     4221    6404   \n",
       "4              5  Retail  Other  22615  5410     7198    3915   \n",
       "\n",
       "   Detergents_Paper  Delicatessen  \n",
       "0              2674          1338  \n",
       "1              3293          1776  \n",
       "2              3516          7844  \n",
       "3               507          1788  \n",
       "4              1777          5185  "
      ]
     },
     "execution_count": 2,
     "metadata": {},
     "output_type": "execute_result"
    }
   ],
   "source": [
    "wholesale_df = pd.read_csv('datasets/Wholesale+Customers+Data.csv')\n",
    "wholesale_df.head()"
   ]
  },
  {
   "cell_type": "markdown",
   "id": "b57358ca",
   "metadata": {},
   "source": [
    "## Checking the types of variables in the dataset."
   ]
  },
  {
   "cell_type": "code",
   "execution_count": 3,
   "id": "26bb5571",
   "metadata": {
    "ExecuteTime": {
     "end_time": "2023-01-10T13:52:40.156254Z",
     "start_time": "2023-01-10T13:52:40.145256Z"
    }
   },
   "outputs": [
    {
     "name": "stdout",
     "output_type": "stream",
     "text": [
      "<class 'pandas.core.frame.DataFrame'>\n",
      "RangeIndex: 440 entries, 0 to 439\n",
      "Data columns (total 9 columns):\n",
      " #   Column            Non-Null Count  Dtype \n",
      "---  ------            --------------  ----- \n",
      " 0   Buyer/Spender     440 non-null    int64 \n",
      " 1   Channel           440 non-null    object\n",
      " 2   Region            440 non-null    object\n",
      " 3   Fresh             440 non-null    int64 \n",
      " 4   Milk              440 non-null    int64 \n",
      " 5   Grocery           440 non-null    int64 \n",
      " 6   Frozen            440 non-null    int64 \n",
      " 7   Detergents_Paper  440 non-null    int64 \n",
      " 8   Delicatessen      440 non-null    int64 \n",
      "dtypes: int64(7), object(2)\n",
      "memory usage: 31.1+ KB\n"
     ]
    }
   ],
   "source": [
    "wholesale_df.info()"
   ]
  },
  {
   "cell_type": "markdown",
   "id": "ebe0682d",
   "metadata": {},
   "source": [
    "From the above output we can see that:\n",
    "- There are 440 observations of different buyers in the data.\n",
    "- There are 9 variables, out of which, 7 are of integer type and 2 are of object(categorical) type.\n",
    "- Out of the 7 integer type variables, Buyer/Spender is discrete numerical variable while the others are continuous numerical variables.\n",
    "- The dataset does not have any missing values."
   ]
  },
  {
   "cell_type": "markdown",
   "id": "640f5921",
   "metadata": {},
   "source": [
    "## Checking the distributions of the continous variables."
   ]
  },
  {
   "cell_type": "markdown",
   "id": "d3bce357",
   "metadata": {},
   "source": [
    "From the below plot, it can be seen that the data for the continuous variables is not normally distributed."
   ]
  },
  {
   "cell_type": "code",
   "execution_count": 4,
   "id": "669305d6",
   "metadata": {
    "ExecuteTime": {
     "end_time": "2023-01-10T13:52:41.520700Z",
     "start_time": "2023-01-10T13:52:40.159254Z"
    }
   },
   "outputs": [
    {
     "data": {
      "image/png": "[encoded data removed]",
      "text/plain": [
       "<Figure size 1400x700 with 6 Axes>"
      ]
     },
     "metadata": {},
     "output_type": "display_data"
    }
   ],
   "source": [
    "axs = wholesale_df.hist(column=['Fresh', 'Milk', 'Grocery', 'Frozen', 'Detergents_Paper', 'Delicatessen'], \n",
    "                  figsize=(14, 7), bins=50, layout=(2, 3))\n",
    "for ax in axs.flatten():\n",
    "    ax.set_ylabel(\"Frequency\", size=14)\n",
    "plt.suptitle('Distribution of Continous Variables', size=17)\n",
    "plt.tight_layout();\n",
    "# plt.savefig('images/Figure1.svg')"
   ]
  },
  {
   "cell_type": "markdown",
   "id": "9b621ee2",
   "metadata": {},
   "source": [
    "## 1.1 Use methods of descriptive statistics to summarize data. Which Region and which Channel spent the most? Which Region and which Channel spent the least?"
   ]
  },
  {
   "cell_type": "markdown",
   "id": "08d34ae1",
   "metadata": {},
   "source": [
    "### Descriptive Statistics of the Wholesale Customers Dataset"
   ]
  },
  {
   "cell_type": "markdown",
   "id": "fd9928fb",
   "metadata": {},
   "source": [
    "Descriptive Statistics tells us a brief summary of the dataset. It can include the 5-point summary for the\n",
    "numerical variables and frequency distribution of categorical variables."
   ]
  },
  {
   "cell_type": "code",
   "execution_count": 5,
   "id": "fcfd1f90",
   "metadata": {
    "ExecuteTime": {
     "end_time": "2023-01-10T13:52:41.568704Z",
     "start_time": "2023-01-10T13:52:41.522703Z"
    }
   },
   "outputs": [
    {
     "data": {
      "text/html": [
       "<div>\n",
       "<style scoped>\n",
       "    .dataframe tbody tr th:only-of-type {\n",
       "        vertical-align: middle;\n",
       "    }\n",
       "\n",
       "    .dataframe tbody tr th {\n",
       "        vertical-align: top;\n",
       "    }\n",
       "\n",
       "    .dataframe thead th {\n",
       "        text-align: right;\n",
       "    }\n",
       "</style>\n",
       "<table border=\"1\" class=\"dataframe\">\n",
       "  <thead>\n",
       "    <tr style=\"text-align: right;\">\n",
       "      <th></th>\n",
       "      <th>count</th>\n",
       "      <th>unique</th>\n",
       "      <th>top</th>\n",
       "      <th>freq</th>\n",
       "      <th>mean</th>\n",
       "      <th>std</th>\n",
       "      <th>min</th>\n",
       "      <th>25%</th>\n",
       "      <th>50%</th>\n",
       "      <th>75%</th>\n",
       "      <th>max</th>\n",
       "    </tr>\n",
       "  </thead>\n",
       "  <tbody>\n",
       "    <tr>\n",
       "      <th>Buyer/Spender</th>\n",
       "      <td>440.0</td>\n",
       "      <td>NaN</td>\n",
       "      <td>NaN</td>\n",
       "      <td>NaN</td>\n",
       "      <td>220.5</td>\n",
       "      <td>127.161315</td>\n",
       "      <td>1.0</td>\n",
       "      <td>110.75</td>\n",
       "      <td>220.5</td>\n",
       "      <td>330.25</td>\n",
       "      <td>440.0</td>\n",
       "    </tr>\n",
       "    <tr>\n",
       "      <th>Channel</th>\n",
       "      <td>440</td>\n",
       "      <td>2</td>\n",
       "      <td>Hotel</td>\n",
       "      <td>298</td>\n",
       "      <td>NaN</td>\n",
       "      <td>NaN</td>\n",
       "      <td>NaN</td>\n",
       "      <td>NaN</td>\n",
       "      <td>NaN</td>\n",
       "      <td>NaN</td>\n",
       "      <td>NaN</td>\n",
       "    </tr>\n",
       "    <tr>\n",
       "      <th>Region</th>\n",
       "      <td>440</td>\n",
       "      <td>3</td>\n",
       "      <td>Other</td>\n",
       "      <td>316</td>\n",
       "      <td>NaN</td>\n",
       "      <td>NaN</td>\n",
       "      <td>NaN</td>\n",
       "      <td>NaN</td>\n",
       "      <td>NaN</td>\n",
       "      <td>NaN</td>\n",
       "      <td>NaN</td>\n",
       "    </tr>\n",
       "    <tr>\n",
       "      <th>Fresh</th>\n",
       "      <td>440.0</td>\n",
       "      <td>NaN</td>\n",
       "      <td>NaN</td>\n",
       "      <td>NaN</td>\n",
       "      <td>12000.297727</td>\n",
       "      <td>12647.328865</td>\n",
       "      <td>3.0</td>\n",
       "      <td>3127.75</td>\n",
       "      <td>8504.0</td>\n",
       "      <td>16933.75</td>\n",
       "      <td>112151.0</td>\n",
       "    </tr>\n",
       "    <tr>\n",
       "      <th>Milk</th>\n",
       "      <td>440.0</td>\n",
       "      <td>NaN</td>\n",
       "      <td>NaN</td>\n",
       "      <td>NaN</td>\n",
       "      <td>5796.265909</td>\n",
       "      <td>7380.377175</td>\n",
       "      <td>55.0</td>\n",
       "      <td>1533.0</td>\n",
       "      <td>3627.0</td>\n",
       "      <td>7190.25</td>\n",
       "      <td>73498.0</td>\n",
       "    </tr>\n",
       "    <tr>\n",
       "      <th>Grocery</th>\n",
       "      <td>440.0</td>\n",
       "      <td>NaN</td>\n",
       "      <td>NaN</td>\n",
       "      <td>NaN</td>\n",
       "      <td>7951.277273</td>\n",
       "      <td>9503.162829</td>\n",
       "      <td>3.0</td>\n",
       "      <td>2153.0</td>\n",
       "      <td>4755.5</td>\n",
       "      <td>10655.75</td>\n",
       "      <td>92780.0</td>\n",
       "    </tr>\n",
       "    <tr>\n",
       "      <th>Frozen</th>\n",
       "      <td>440.0</td>\n",
       "      <td>NaN</td>\n",
       "      <td>NaN</td>\n",
       "      <td>NaN</td>\n",
       "      <td>3071.931818</td>\n",
       "      <td>4854.673333</td>\n",
       "      <td>25.0</td>\n",
       "      <td>742.25</td>\n",
       "      <td>1526.0</td>\n",
       "      <td>3554.25</td>\n",
       "      <td>60869.0</td>\n",
       "    </tr>\n",
       "    <tr>\n",
       "      <th>Detergents_Paper</th>\n",
       "      <td>440.0</td>\n",
       "      <td>NaN</td>\n",
       "      <td>NaN</td>\n",
       "      <td>NaN</td>\n",
       "      <td>2881.493182</td>\n",
       "      <td>4767.854448</td>\n",
       "      <td>3.0</td>\n",
       "      <td>256.75</td>\n",
       "      <td>816.5</td>\n",
       "      <td>3922.0</td>\n",
       "      <td>40827.0</td>\n",
       "    </tr>\n",
       "    <tr>\n",
       "      <th>Delicatessen</th>\n",
       "      <td>440.0</td>\n",
       "      <td>NaN</td>\n",
       "      <td>NaN</td>\n",
       "      <td>NaN</td>\n",
       "      <td>1524.870455</td>\n",
       "      <td>2820.105937</td>\n",
       "      <td>3.0</td>\n",
       "      <td>408.25</td>\n",
       "      <td>965.5</td>\n",
       "      <td>1820.25</td>\n",
       "      <td>47943.0</td>\n",
       "    </tr>\n",
       "  </tbody>\n",
       "</table>\n",
       "</div>"
      ],
      "text/plain": [
       "                  count unique    top freq          mean           std   min  \\\n",
       "Buyer/Spender     440.0    NaN    NaN  NaN         220.5    127.161315   1.0   \n",
       "Channel             440      2  Hotel  298           NaN           NaN   NaN   \n",
       "Region              440      3  Other  316           NaN           NaN   NaN   \n",
       "Fresh             440.0    NaN    NaN  NaN  12000.297727  12647.328865   3.0   \n",
       "Milk              440.0    NaN    NaN  NaN   5796.265909   7380.377175  55.0   \n",
       "Grocery           440.0    NaN    NaN  NaN   7951.277273   9503.162829   3.0   \n",
       "Frozen            440.0    NaN    NaN  NaN   3071.931818   4854.673333  25.0   \n",
       "Detergents_Paper  440.0    NaN    NaN  NaN   2881.493182   4767.854448   3.0   \n",
       "Delicatessen      440.0    NaN    NaN  NaN   1524.870455   2820.105937   3.0   \n",
       "\n",
       "                      25%     50%       75%       max  \n",
       "Buyer/Spender      110.75   220.5    330.25     440.0  \n",
       "Channel               NaN     NaN       NaN       NaN  \n",
       "Region                NaN     NaN       NaN       NaN  \n",
       "Fresh             3127.75  8504.0  16933.75  112151.0  \n",
       "Milk               1533.0  3627.0   7190.25   73498.0  \n",
       "Grocery            2153.0  4755.5  10655.75   92780.0  \n",
       "Frozen             742.25  1526.0   3554.25   60869.0  \n",
       "Detergents_Paper   256.75   816.5    3922.0   40827.0  \n",
       "Delicatessen       408.25   965.5   1820.25   47943.0  "
      ]
     },
     "execution_count": 5,
     "metadata": {},
     "output_type": "execute_result"
    }
   ],
   "source": [
    "wholesale_df.describe(include='all').T"
   ]
  },
  {
   "cell_type": "markdown",
   "id": "010af6c3",
   "metadata": {},
   "source": [
    "From the above output we can see that:\n",
    "- The Channel variable has 2 unique values, with Hotel being the most frequent, occurring 298 times.\n",
    "- The Region variable has 3 unique values, with Other being the most frequent, occurring 316 times.\n",
    "- The Fresh items have the highest average annual spending in the dataset.\n",
    "- The maximum annual spending values of all the items are quite high. These values might be outliers.\n",
    "- The standard deviations of the annual spending are also large. This indicates that the data is spread over a big range.\n",
    "\n",
    "NaN shows that the values cannot be calculated for that particular variable. Like we cannot calculate mean for\n",
    "a categorical variable. And in a same way unique value cannot be calculated for a numerical variable."
   ]
  },
  {
   "cell_type": "markdown",
   "id": "9272c2e8",
   "metadata": {},
   "source": [
    "### Region wise Total Annual Spendings for the items"
   ]
  },
  {
   "cell_type": "code",
   "execution_count": 6,
   "id": "0db3108a",
   "metadata": {
    "ExecuteTime": {
     "end_time": "2023-01-10T13:52:41.600707Z",
     "start_time": "2023-01-10T13:52:41.570707Z"
    }
   },
   "outputs": [
    {
     "data": {
      "text/html": [
       "<div>\n",
       "<style scoped>\n",
       "    .dataframe tbody tr th:only-of-type {\n",
       "        vertical-align: middle;\n",
       "    }\n",
       "\n",
       "    .dataframe tbody tr th {\n",
       "        vertical-align: top;\n",
       "    }\n",
       "\n",
       "    .dataframe thead th {\n",
       "        text-align: right;\n",
       "    }\n",
       "</style>\n",
       "<table border=\"1\" class=\"dataframe\">\n",
       "  <thead>\n",
       "    <tr style=\"text-align: right;\">\n",
       "      <th></th>\n",
       "      <th>Total_Spendings</th>\n",
       "    </tr>\n",
       "    <tr>\n",
       "      <th>Region</th>\n",
       "      <th></th>\n",
       "    </tr>\n",
       "  </thead>\n",
       "  <tbody>\n",
       "    <tr>\n",
       "      <th>Oporto</th>\n",
       "      <td>1555088</td>\n",
       "    </tr>\n",
       "    <tr>\n",
       "      <th>Lisbon</th>\n",
       "      <td>2386813</td>\n",
       "    </tr>\n",
       "    <tr>\n",
       "      <th>Other</th>\n",
       "      <td>10677599</td>\n",
       "    </tr>\n",
       "  </tbody>\n",
       "</table>\n",
       "</div>"
      ],
      "text/plain": [
       "        Total_Spendings\n",
       "Region                 \n",
       "Oporto          1555088\n",
       "Lisbon          2386813\n",
       "Other          10677599"
      ]
     },
     "execution_count": 6,
     "metadata": {},
     "output_type": "execute_result"
    }
   ],
   "source": [
    "wholesale_df['Total_Spendings'] = wholesale_df.eval('Fresh + Milk + Grocery + Frozen + Detergents_Paper + Delicatessen')\n",
    "region_vs_total_spendings = wholesale_df.groupby('Region')[['Total_Spendings']].sum().sort_values(by='Total_Spendings')\n",
    "region_vs_total_spendings"
   ]
  },
  {
   "cell_type": "code",
   "execution_count": 7,
   "id": "5af4af08",
   "metadata": {
    "ExecuteTime": {
     "end_time": "2023-01-10T13:52:41.760721Z",
     "start_time": "2023-01-10T13:52:41.602708Z"
    }
   },
   "outputs": [
    {
     "data": {
      "image/png": "[encoded data removed]",
      "text/plain": [
       "<Figure size 700x500 with 1 Axes>"
      ]
     },
     "metadata": {},
     "output_type": "display_data"
    }
   ],
   "source": [
    "plt.figure(figsize=(7, 5))\n",
    "sns.barplot(data=region_vs_total_spendings, y='Total_Spendings', x=region_vs_total_spendings.index)\n",
    "plt.title('Region wise Total Spendings')\n",
    "plt.ylabel('Total Spendings')\n",
    "plt.yticks(labels=['0', '2000000', '4000000', '6000000', '8000000', '10000000', '12000000'], \n",
    "           ticks=np.linspace(0, 12000000, 7));\n",
    "# plt.savefig('images/Figure2.png')"
   ]
  },
  {
   "cell_type": "markdown",
   "id": "cb6f6093",
   "metadata": {},
   "source": [
    "After calculating the Region wise Total Spending’s, we found that:\n",
    "- The buyers spent the least in the Oporto region.\n",
    "- The buyers spent the most in the Other regions."
   ]
  },
  {
   "cell_type": "markdown",
   "id": "3331456b",
   "metadata": {},
   "source": [
    "### Channel wise Total Annual Spendings for the items"
   ]
  },
  {
   "cell_type": "code",
   "execution_count": 8,
   "id": "fea497f8",
   "metadata": {
    "ExecuteTime": {
     "end_time": "2023-01-10T13:52:41.776725Z",
     "start_time": "2023-01-10T13:52:41.763727Z"
    }
   },
   "outputs": [
    {
     "data": {
      "text/html": [
       "<div>\n",
       "<style scoped>\n",
       "    .dataframe tbody tr th:only-of-type {\n",
       "        vertical-align: middle;\n",
       "    }\n",
       "\n",
       "    .dataframe tbody tr th {\n",
       "        vertical-align: top;\n",
       "    }\n",
       "\n",
       "    .dataframe thead th {\n",
       "        text-align: right;\n",
       "    }\n",
       "</style>\n",
       "<table border=\"1\" class=\"dataframe\">\n",
       "  <thead>\n",
       "    <tr style=\"text-align: right;\">\n",
       "      <th></th>\n",
       "      <th>Total_Spendings</th>\n",
       "    </tr>\n",
       "    <tr>\n",
       "      <th>Channel</th>\n",
       "      <th></th>\n",
       "    </tr>\n",
       "  </thead>\n",
       "  <tbody>\n",
       "    <tr>\n",
       "      <th>Retail</th>\n",
       "      <td>6619931</td>\n",
       "    </tr>\n",
       "    <tr>\n",
       "      <th>Hotel</th>\n",
       "      <td>7999569</td>\n",
       "    </tr>\n",
       "  </tbody>\n",
       "</table>\n",
       "</div>"
      ],
      "text/plain": [
       "         Total_Spendings\n",
       "Channel                 \n",
       "Retail           6619931\n",
       "Hotel            7999569"
      ]
     },
     "execution_count": 8,
     "metadata": {},
     "output_type": "execute_result"
    }
   ],
   "source": [
    "channel_vs_total_spendings = wholesale_df.groupby('Channel')[['Total_Spendings']].sum().sort_values(by='Total_Spendings')\n",
    "channel_vs_total_spendings"
   ]
  },
  {
   "cell_type": "code",
   "execution_count": 9,
   "id": "8d728aa4",
   "metadata": {
    "ExecuteTime": {
     "end_time": "2023-01-10T13:52:41.904736Z",
     "start_time": "2023-01-10T13:52:41.780722Z"
    }
   },
   "outputs": [
    {
     "data": {
      "image/png": "[encoded data removed]",
      "text/plain": [
       "<Figure size 700x500 with 1 Axes>"
      ]
     },
     "metadata": {},
     "output_type": "display_data"
    }
   ],
   "source": [
    "plt.figure(figsize=(7, 5))\n",
    "sns.barplot(data=channel_vs_total_spendings, y='Total_Spendings', x=channel_vs_total_spendings.index)\n",
    "plt.title('Channel wise Total Spendings')\n",
    "plt.ylabel('Total Spendings')\n",
    "plt.yticks(labels=['0', '2000000', '4000000', '6000000', '8000000'], \n",
    "           ticks=np.linspace(0, 8000000, 5));\n",
    "# plt.savefig('images/Figure3.png')"
   ]
  },
  {
   "cell_type": "markdown",
   "id": "c1cfc137",
   "metadata": {},
   "source": [
    "After calculating the Channel wise Total Spending’s, we found that:\n",
    "- The buyers spent the least in the Retail channels.\n",
    "- The buyers spent the most in the Hotel channels."
   ]
  },
  {
   "cell_type": "markdown",
   "id": "b104cea2",
   "metadata": {},
   "source": [
    "## 1.2 There are 6 different varieties of items that are considered. Describe and comment/explain all the varieties across Region and Channel? Provide a detailed justification for your answer."
   ]
  },
  {
   "cell_type": "markdown",
   "id": "dcc9967b",
   "metadata": {},
   "source": [
    "### Region wise Average spendings for different variety of Items."
   ]
  },
  {
   "cell_type": "code",
   "execution_count": 10,
   "id": "215b0dfe",
   "metadata": {
    "ExecuteTime": {
     "end_time": "2023-01-10T13:52:41.934741Z",
     "start_time": "2023-01-10T13:52:41.906739Z"
    },
    "scrolled": true
   },
   "outputs": [
    {
     "data": {
      "text/html": [
       "<div>\n",
       "<style scoped>\n",
       "    .dataframe tbody tr th:only-of-type {\n",
       "        vertical-align: middle;\n",
       "    }\n",
       "\n",
       "    .dataframe tbody tr th {\n",
       "        vertical-align: top;\n",
       "    }\n",
       "\n",
       "    .dataframe thead th {\n",
       "        text-align: right;\n",
       "    }\n",
       "</style>\n",
       "<table border=\"1\" class=\"dataframe\">\n",
       "  <thead>\n",
       "    <tr style=\"text-align: right;\">\n",
       "      <th></th>\n",
       "      <th>Fresh</th>\n",
       "      <th>Milk</th>\n",
       "      <th>Grocery</th>\n",
       "      <th>Frozen</th>\n",
       "      <th>Detergents_Paper</th>\n",
       "      <th>Delicatessen</th>\n",
       "    </tr>\n",
       "    <tr>\n",
       "      <th>Region</th>\n",
       "      <th></th>\n",
       "      <th></th>\n",
       "      <th></th>\n",
       "      <th></th>\n",
       "      <th></th>\n",
       "      <th></th>\n",
       "    </tr>\n",
       "  </thead>\n",
       "  <tbody>\n",
       "    <tr>\n",
       "      <th>Lisbon</th>\n",
       "      <td>11101.727273</td>\n",
       "      <td>5486.415584</td>\n",
       "      <td>7403.077922</td>\n",
       "      <td>3000.337662</td>\n",
       "      <td>2651.116883</td>\n",
       "      <td>1354.896104</td>\n",
       "    </tr>\n",
       "    <tr>\n",
       "      <th>Oporto</th>\n",
       "      <td>9887.680851</td>\n",
       "      <td>5088.170213</td>\n",
       "      <td>9218.595745</td>\n",
       "      <td>4045.361702</td>\n",
       "      <td>3687.468085</td>\n",
       "      <td>1159.702128</td>\n",
       "    </tr>\n",
       "    <tr>\n",
       "      <th>Other</th>\n",
       "      <td>12533.471519</td>\n",
       "      <td>5977.085443</td>\n",
       "      <td>7896.363924</td>\n",
       "      <td>2944.594937</td>\n",
       "      <td>2817.753165</td>\n",
       "      <td>1620.601266</td>\n",
       "    </tr>\n",
       "  </tbody>\n",
       "</table>\n",
       "</div>"
      ],
      "text/plain": [
       "               Fresh         Milk      Grocery       Frozen  Detergents_Paper  \\\n",
       "Region                                                                          \n",
       "Lisbon  11101.727273  5486.415584  7403.077922  3000.337662       2651.116883   \n",
       "Oporto   9887.680851  5088.170213  9218.595745  4045.361702       3687.468085   \n",
       "Other   12533.471519  5977.085443  7896.363924  2944.594937       2817.753165   \n",
       "\n",
       "        Delicatessen  \n",
       "Region                \n",
       "Lisbon   1354.896104  \n",
       "Oporto   1159.702128  \n",
       "Other    1620.601266  "
      ]
     },
     "execution_count": 10,
     "metadata": {},
     "output_type": "execute_result"
    }
   ],
   "source": [
    "items = ['Fresh', 'Milk', 'Grocery', 'Frozen', 'Detergents_Paper', 'Delicatessen']\n",
    "region_vs_items_mean = wholesale_df.groupby('Region')[items].mean()\n",
    "region_vs_items_std = wholesale_df.groupby('Region')[items].std()\n",
    "region_vs_items_mean"
   ]
  },
  {
   "cell_type": "markdown",
   "id": "37b8d92a",
   "metadata": {},
   "source": [
    "### Region wise Coefficient of Variation of spendings for different variety of Items."
   ]
  },
  {
   "cell_type": "markdown",
   "id": "ff644310",
   "metadata": {},
   "source": [
    "Coefficient of Variations is a measure of relative dispersion around the mean. It is used to compare variables\n",
    "with different ranges and units of measurements."
   ]
  },
  {
   "cell_type": "code",
   "execution_count": 11,
   "id": "005c9bc0",
   "metadata": {
    "ExecuteTime": {
     "end_time": "2023-01-10T13:52:41.949742Z",
     "start_time": "2023-01-10T13:52:41.936743Z"
    },
    "scrolled": true
   },
   "outputs": [
    {
     "data": {
      "text/html": [
       "<div>\n",
       "<style scoped>\n",
       "    .dataframe tbody tr th:only-of-type {\n",
       "        vertical-align: middle;\n",
       "    }\n",
       "\n",
       "    .dataframe tbody tr th {\n",
       "        vertical-align: top;\n",
       "    }\n",
       "\n",
       "    .dataframe thead th {\n",
       "        text-align: right;\n",
       "    }\n",
       "</style>\n",
       "<table border=\"1\" class=\"dataframe\">\n",
       "  <thead>\n",
       "    <tr style=\"text-align: right;\">\n",
       "      <th></th>\n",
       "      <th>Fresh</th>\n",
       "      <th>Milk</th>\n",
       "      <th>Grocery</th>\n",
       "      <th>Frozen</th>\n",
       "      <th>Detergents_Paper</th>\n",
       "      <th>Delicatessen</th>\n",
       "    </tr>\n",
       "    <tr>\n",
       "      <th>Region</th>\n",
       "      <th></th>\n",
       "      <th></th>\n",
       "      <th></th>\n",
       "      <th></th>\n",
       "      <th></th>\n",
       "      <th></th>\n",
       "    </tr>\n",
       "  </thead>\n",
       "  <tbody>\n",
       "    <tr>\n",
       "      <th>Lisbon</th>\n",
       "      <td>1.041049</td>\n",
       "      <td>1.039815</td>\n",
       "      <td>1.147670</td>\n",
       "      <td>1.030599</td>\n",
       "      <td>1.587430</td>\n",
       "      <td>0.993008</td>\n",
       "    </tr>\n",
       "    <tr>\n",
       "      <th>Oporto</th>\n",
       "      <td>0.848318</td>\n",
       "      <td>1.145076</td>\n",
       "      <td>1.176182</td>\n",
       "      <td>2.262291</td>\n",
       "      <td>1.766718</td>\n",
       "      <td>0.906043</td>\n",
       "    </tr>\n",
       "    <tr>\n",
       "      <th>Other</th>\n",
       "      <td>1.068277</td>\n",
       "      <td>1.327648</td>\n",
       "      <td>1.207808</td>\n",
       "      <td>1.446761</td>\n",
       "      <td>1.630040</td>\n",
       "      <td>1.994680</td>\n",
       "    </tr>\n",
       "  </tbody>\n",
       "</table>\n",
       "</div>"
      ],
      "text/plain": [
       "           Fresh      Milk   Grocery    Frozen  Detergents_Paper  Delicatessen\n",
       "Region                                                                        \n",
       "Lisbon  1.041049  1.039815  1.147670  1.030599          1.587430      0.993008\n",
       "Oporto  0.848318  1.145076  1.176182  2.262291          1.766718      0.906043\n",
       "Other   1.068277  1.327648  1.207808  1.446761          1.630040      1.994680"
      ]
     },
     "execution_count": 11,
     "metadata": {},
     "output_type": "execute_result"
    }
   ],
   "source": [
    "region_vs_items_cv = region_vs_items_std / region_vs_items_mean\n",
    "region_vs_items_cv"
   ]
  },
  {
   "cell_type": "markdown",
   "id": "bed546ed",
   "metadata": {},
   "source": [
    "From the above tables we can conclude that:\n",
    "- For all the Regions in Portugal: -\n",
    "    - Highest Averages spending’s are for Fresh items.\n",
    "    - Lowest Averages spending’s are for Delicatessen items. This means that people spend less on expensive food stores.\n",
    "    - In general, spending’s for all the items are largely spread out around the mean.\n",
    "- In Lisbon: -\n",
    "    - The spending’s for Detergents_Paper is highly spread out about its mean in comparison to other items. This could mean that the actual spending’s for Detergents_Paper are away from its mean and near the extreme values.\n",
    "- In Oporto: -\n",
    "    - The spending’s for Frozen items is highly spread out about its mean in comparison to other items. This could mean that the actual spending’s for Frozen are away from its mean and near the extreme values.\n",
    "- In Other regions: -\n",
    "    - The spending’s for Delicatessen is highly spread out about its mean in comparison to other items. This could mean that the actual spending’s for Delicatessen are away from its mean and near the extreme values."
   ]
  },
  {
   "cell_type": "markdown",
   "id": "15781134",
   "metadata": {},
   "source": [
    "### Channel wise Average spendings for different variety of Items."
   ]
  },
  {
   "cell_type": "code",
   "execution_count": 12,
   "id": "5d040391",
   "metadata": {
    "ExecuteTime": {
     "end_time": "2023-01-10T13:52:41.965746Z",
     "start_time": "2023-01-10T13:52:41.950743Z"
    },
    "scrolled": true
   },
   "outputs": [
    {
     "data": {
      "text/html": [
       "<div>\n",
       "<style scoped>\n",
       "    .dataframe tbody tr th:only-of-type {\n",
       "        vertical-align: middle;\n",
       "    }\n",
       "\n",
       "    .dataframe tbody tr th {\n",
       "        vertical-align: top;\n",
       "    }\n",
       "\n",
       "    .dataframe thead th {\n",
       "        text-align: right;\n",
       "    }\n",
       "</style>\n",
       "<table border=\"1\" class=\"dataframe\">\n",
       "  <thead>\n",
       "    <tr style=\"text-align: right;\">\n",
       "      <th></th>\n",
       "      <th>Fresh</th>\n",
       "      <th>Milk</th>\n",
       "      <th>Grocery</th>\n",
       "      <th>Frozen</th>\n",
       "      <th>Detergents_Paper</th>\n",
       "      <th>Delicatessen</th>\n",
       "    </tr>\n",
       "    <tr>\n",
       "      <th>Channel</th>\n",
       "      <th></th>\n",
       "      <th></th>\n",
       "      <th></th>\n",
       "      <th></th>\n",
       "      <th></th>\n",
       "      <th></th>\n",
       "    </tr>\n",
       "  </thead>\n",
       "  <tbody>\n",
       "    <tr>\n",
       "      <th>Hotel</th>\n",
       "      <td>13475.560403</td>\n",
       "      <td>3451.724832</td>\n",
       "      <td>3962.137584</td>\n",
       "      <td>3748.251678</td>\n",
       "      <td>790.560403</td>\n",
       "      <td>1415.956376</td>\n",
       "    </tr>\n",
       "    <tr>\n",
       "      <th>Retail</th>\n",
       "      <td>8904.323944</td>\n",
       "      <td>10716.500000</td>\n",
       "      <td>16322.852113</td>\n",
       "      <td>1652.612676</td>\n",
       "      <td>7269.507042</td>\n",
       "      <td>1753.436620</td>\n",
       "    </tr>\n",
       "  </tbody>\n",
       "</table>\n",
       "</div>"
      ],
      "text/plain": [
       "                Fresh          Milk       Grocery       Frozen  \\\n",
       "Channel                                                          \n",
       "Hotel    13475.560403   3451.724832   3962.137584  3748.251678   \n",
       "Retail    8904.323944  10716.500000  16322.852113  1652.612676   \n",
       "\n",
       "         Detergents_Paper  Delicatessen  \n",
       "Channel                                  \n",
       "Hotel          790.560403   1415.956376  \n",
       "Retail        7269.507042   1753.436620  "
      ]
     },
     "execution_count": 12,
     "metadata": {},
     "output_type": "execute_result"
    }
   ],
   "source": [
    "channel_vs_items_mean = wholesale_df.groupby('Channel')[items].mean()\n",
    "channel_vs_items_std = wholesale_df.groupby('Channel')[items].std()\n",
    "channel_vs_items_mean"
   ]
  },
  {
   "cell_type": "markdown",
   "id": "ac8fc792",
   "metadata": {},
   "source": [
    "### Channel wise Coefficient of Variation of spendings for different variety of Items."
   ]
  },
  {
   "cell_type": "code",
   "execution_count": 13,
   "id": "e62ddfdd",
   "metadata": {
    "ExecuteTime": {
     "end_time": "2023-01-10T13:52:41.980746Z",
     "start_time": "2023-01-10T13:52:41.967746Z"
    },
    "scrolled": true
   },
   "outputs": [
    {
     "data": {
      "text/html": [
       "<div>\n",
       "<style scoped>\n",
       "    .dataframe tbody tr th:only-of-type {\n",
       "        vertical-align: middle;\n",
       "    }\n",
       "\n",
       "    .dataframe tbody tr th {\n",
       "        vertical-align: top;\n",
       "    }\n",
       "\n",
       "    .dataframe thead th {\n",
       "        text-align: right;\n",
       "    }\n",
       "</style>\n",
       "<table border=\"1\" class=\"dataframe\">\n",
       "  <thead>\n",
       "    <tr style=\"text-align: right;\">\n",
       "      <th></th>\n",
       "      <th>Fresh</th>\n",
       "      <th>Milk</th>\n",
       "      <th>Grocery</th>\n",
       "      <th>Frozen</th>\n",
       "      <th>Detergents_Paper</th>\n",
       "      <th>Delicatessen</th>\n",
       "    </tr>\n",
       "    <tr>\n",
       "      <th>Channel</th>\n",
       "      <th></th>\n",
       "      <th></th>\n",
       "      <th></th>\n",
       "      <th></th>\n",
       "      <th></th>\n",
       "      <th></th>\n",
       "    </tr>\n",
       "  </thead>\n",
       "  <tbody>\n",
       "    <tr>\n",
       "      <th>Hotel</th>\n",
       "      <td>1.026428</td>\n",
       "      <td>1.260867</td>\n",
       "      <td>0.894849</td>\n",
       "      <td>1.505745</td>\n",
       "      <td>1.396596</td>\n",
       "      <td>2.222828</td>\n",
       "    </tr>\n",
       "    <tr>\n",
       "      <th>Retail</th>\n",
       "      <td>1.009365</td>\n",
       "      <td>0.903246</td>\n",
       "      <td>0.751543</td>\n",
       "      <td>1.096932</td>\n",
       "      <td>0.865408</td>\n",
       "      <td>1.114267</td>\n",
       "    </tr>\n",
       "  </tbody>\n",
       "</table>\n",
       "</div>"
      ],
      "text/plain": [
       "            Fresh      Milk   Grocery    Frozen  Detergents_Paper  \\\n",
       "Channel                                                             \n",
       "Hotel    1.026428  1.260867  0.894849  1.505745          1.396596   \n",
       "Retail   1.009365  0.903246  0.751543  1.096932          0.865408   \n",
       "\n",
       "         Delicatessen  \n",
       "Channel                \n",
       "Hotel        2.222828  \n",
       "Retail       1.114267  "
      ]
     },
     "execution_count": 13,
     "metadata": {},
     "output_type": "execute_result"
    }
   ],
   "source": [
    "channel_vs_items_cv = channel_vs_items_std / channel_vs_items_mean\n",
    "channel_vs_items_cv"
   ]
  },
  {
   "cell_type": "markdown",
   "id": "dad4f896",
   "metadata": {},
   "source": [
    "From the above tables we can conclude that:\n",
    "- For all the Channels in Portugal: -\n",
    "    - In general, spending’s for all the items are largely spread out around the mean.\n",
    "- For Hotels in Portugal: -\n",
    "    - Highest Averages spending’s are for Fresh items.\n",
    "    - Lowest Averages spending’s are for Detergents_Paper.\n",
    "    - The spending’s for Delicatessen is highly spread out about its mean in comparison to other\n",
    "      items. This could mean that most of the values are less than the mean while only few are\n",
    "      more than the mean.\n",
    "- For Retail outlets in Portugal: -\n",
    "    - Highest Averages spending’s are for Grocery items.\n",
    "    - Lowest Averages spending’s are for Frozen items.\n",
    "    - The spending’s for Delicatessen items is highly spread out about its mean in comparison to\n",
    "      other items. This could mean that most of the values are less than the mean while only few\n",
    "      are more than the mean."
   ]
  },
  {
   "cell_type": "markdown",
   "id": "cf72646a",
   "metadata": {},
   "source": [
    "## 1.3 On the basis of a descriptive measure of variability, which item shows the most inconsistent behaviour? Which items show the least inconsistent behaviour?"
   ]
  },
  {
   "cell_type": "markdown",
   "id": "2d53a4c5",
   "metadata": {},
   "source": [
    "Using the Coefficient of Variation (CV) as a measure of variability, as the means of all the items are highly\n",
    "different."
   ]
  },
  {
   "cell_type": "code",
   "execution_count": 14,
   "id": "0b936945",
   "metadata": {
    "ExecuteTime": {
     "end_time": "2023-01-10T13:52:41.996745Z",
     "start_time": "2023-01-10T13:52:41.982747Z"
    }
   },
   "outputs": [
    {
     "data": {
      "text/plain": [
       "Fresh               1.053918\n",
       "Milk                1.273299\n",
       "Grocery             1.195174\n",
       "Frozen              1.580332\n",
       "Detergents_Paper    1.654647\n",
       "Delicatessen        1.849407\n",
       "dtype: float64"
      ]
     },
     "execution_count": 14,
     "metadata": {},
     "output_type": "execute_result"
    }
   ],
   "source": [
    "items_df = wholesale_df[items]\n",
    "items_cv = items_df.std() / items_df.mean()\n",
    "items_cv"
   ]
  },
  {
   "cell_type": "markdown",
   "id": "0eae2837",
   "metadata": {},
   "source": [
    "From the above table we can see that:\n",
    "- Delicatessen items show the most inconsistent behaviour as its CV is very high.\n",
    "- Fresh items show the least inconsistent behaviour as its CV is very low."
   ]
  },
  {
   "cell_type": "markdown",
   "id": "5e792e03",
   "metadata": {},
   "source": [
    "## 1.4 Are there any outliers in the data? Back up your answer with a suitable plot/technique with the help of detailed comments."
   ]
  },
  {
   "cell_type": "markdown",
   "id": "e906eeeb",
   "metadata": {},
   "source": [
    "Box Plot is a very effective visualization to detect outliers. It also shows the five point summary of the\n",
    "variables, which helps us to identify the distribution of the variables."
   ]
  },
  {
   "cell_type": "code",
   "execution_count": 15,
   "id": "b93ac24f",
   "metadata": {
    "ExecuteTime": {
     "end_time": "2023-01-10T13:52:42.220763Z",
     "start_time": "2023-01-10T13:52:41.998748Z"
    }
   },
   "outputs": [
    {
     "data": {
      "image/png": "[encoded data removed]",
      "text/plain": [
       "<Figure size 1200x600 with 1 Axes>"
      ]
     },
     "metadata": {},
     "output_type": "display_data"
    }
   ],
   "source": [
    "plt.figure(figsize=(12, 6))\n",
    "sns.boxplot(data=wholesale_df[items], fliersize=3)\n",
    "plt.xlabel('Items')\n",
    "plt.ylabel('Spendings')\n",
    "plt.title('Itemwise Box Plots');\n",
    "# plt.savefig('images/Figure4.png')"
   ]
  },
  {
   "cell_type": "markdown",
   "id": "d4fcd301",
   "metadata": {},
   "source": [
    "From the above box plot we can see that the spending’s for all the items in the dataset have outliers. The plot\n",
    "also confirms that the spending’s are Positively skewed as the spread of data above the median is more than\n",
    "spread of data below the median. These outliers can be buyers who buy in large quantities at once or buyers\n",
    "who buy expensive items."
   ]
  },
  {
   "cell_type": "markdown",
   "id": "91ab361f",
   "metadata": {},
   "source": [
    "## 1.5 On the basis of your analysis, what are your recommendations for the business? How can your analysis help the business to solve its problem? Answer from the business perspective"
   ]
  },
  {
   "cell_type": "markdown",
   "id": "e4e80708",
   "metadata": {
    "tags": []
   },
   "source": [
    "- From the above histograms we can see that, most of the buyers spend less for all items. So the wholesaler can keep more stock of reasonable items as compared to expensive items to meet demand expectations.\n",
    "- __Fresh__ items are the most popular items bought by the customers. Keeping higher stock of the items might help increase sales and meet demands.\n",
    "- __Delicatessen__ items are the least bought items. Reducing the stock of these items will help decrease inventory costs.\n",
    "- __Oporto__ region has the lowest annual spendings. Increasing the stock of __Fresh__ and __Grocery__ items in this region might help increase sales.\n",
    "- In __Lisbon__ region, __Detegent Paper__ and __Delicatessen__ items have the lowest sales. Reducing their stocks will help decrease inventory.\n",
    "- The __Other__ regions combined have the highest sales. Increasing the customer base and keeping the prices reasonable can help increase sales and profit in this region.\n",
    "- For __Hotel__ channels, providing offers on __Detegent Paper__ and __Delicatessen__ can help increase sales of these items. Also keeping high stocks of __Fresh__ items will help meet demand expectations.\n",
    "- For __Retail__ channels, providing offers on __Frozen__ and __Delicatessen__ can help increase sales of these items. Also keeping high stocks of __Milk__ and __Grocery__ items will help meet demand expectations."
   ]
  },
  {
   "cell_type": "markdown",
   "id": "ab9fb78a",
   "metadata": {},
   "source": [
    "# Problem 2"
   ]
  },
  {
   "cell_type": "markdown",
   "id": "a227d6f7-18e4-4af9-91e7-25af64d1e9ed",
   "metadata": {},
   "source": [
    "The Student News Service at Clear Mountain State University (CMSU) has decided to gather data about the undergraduate students that attend CMSU. CMSU creates and distributes a survey of 14 questions and receives responses from 62 undergraduates (stored in the __Survey__ data set)."
   ]
  },
  {
   "cell_type": "markdown",
   "id": "1c0d0b7d-d591-4295-8d55-d7cf46adc910",
   "metadata": {},
   "source": [
    "## Sample of the Survey Dataset"
   ]
  },
  {
   "cell_type": "code",
   "execution_count": 16,
   "id": "ffa97443-042c-431f-aec2-375e5270725c",
   "metadata": {
    "ExecuteTime": {
     "end_time": "2023-01-10T13:52:42.252766Z",
     "start_time": "2023-01-10T13:52:42.222768Z"
    },
    "tags": []
   },
   "outputs": [
    {
     "data": {
      "text/html": [
       "<div>\n",
       "<style scoped>\n",
       "    .dataframe tbody tr th:only-of-type {\n",
       "        vertical-align: middle;\n",
       "    }\n",
       "\n",
       "    .dataframe tbody tr th {\n",
       "        vertical-align: top;\n",
       "    }\n",
       "\n",
       "    .dataframe thead th {\n",
       "        text-align: right;\n",
       "    }\n",
       "</style>\n",
       "<table border=\"1\" class=\"dataframe\">\n",
       "  <thead>\n",
       "    <tr style=\"text-align: right;\">\n",
       "      <th></th>\n",
       "      <th>ID</th>\n",
       "      <th>Gender</th>\n",
       "      <th>Age</th>\n",
       "      <th>Class</th>\n",
       "      <th>Major</th>\n",
       "      <th>Grad Intention</th>\n",
       "      <th>GPA</th>\n",
       "      <th>Employment</th>\n",
       "      <th>Salary</th>\n",
       "      <th>Social Networking</th>\n",
       "      <th>Satisfaction</th>\n",
       "      <th>Spending</th>\n",
       "      <th>Computer</th>\n",
       "      <th>Text Messages</th>\n",
       "    </tr>\n",
       "  </thead>\n",
       "  <tbody>\n",
       "    <tr>\n",
       "      <th>0</th>\n",
       "      <td>1</td>\n",
       "      <td>Female</td>\n",
       "      <td>20</td>\n",
       "      <td>Junior</td>\n",
       "      <td>Other</td>\n",
       "      <td>Yes</td>\n",
       "      <td>2.9</td>\n",
       "      <td>Full-Time</td>\n",
       "      <td>50.0</td>\n",
       "      <td>1</td>\n",
       "      <td>3</td>\n",
       "      <td>350</td>\n",
       "      <td>Laptop</td>\n",
       "      <td>200</td>\n",
       "    </tr>\n",
       "    <tr>\n",
       "      <th>1</th>\n",
       "      <td>2</td>\n",
       "      <td>Male</td>\n",
       "      <td>23</td>\n",
       "      <td>Senior</td>\n",
       "      <td>Management</td>\n",
       "      <td>Yes</td>\n",
       "      <td>3.6</td>\n",
       "      <td>Part-Time</td>\n",
       "      <td>25.0</td>\n",
       "      <td>1</td>\n",
       "      <td>4</td>\n",
       "      <td>360</td>\n",
       "      <td>Laptop</td>\n",
       "      <td>50</td>\n",
       "    </tr>\n",
       "    <tr>\n",
       "      <th>2</th>\n",
       "      <td>3</td>\n",
       "      <td>Male</td>\n",
       "      <td>21</td>\n",
       "      <td>Junior</td>\n",
       "      <td>Other</td>\n",
       "      <td>Yes</td>\n",
       "      <td>2.5</td>\n",
       "      <td>Part-Time</td>\n",
       "      <td>45.0</td>\n",
       "      <td>2</td>\n",
       "      <td>4</td>\n",
       "      <td>600</td>\n",
       "      <td>Laptop</td>\n",
       "      <td>200</td>\n",
       "    </tr>\n",
       "    <tr>\n",
       "      <th>3</th>\n",
       "      <td>4</td>\n",
       "      <td>Male</td>\n",
       "      <td>21</td>\n",
       "      <td>Junior</td>\n",
       "      <td>CIS</td>\n",
       "      <td>Yes</td>\n",
       "      <td>2.5</td>\n",
       "      <td>Full-Time</td>\n",
       "      <td>40.0</td>\n",
       "      <td>4</td>\n",
       "      <td>6</td>\n",
       "      <td>600</td>\n",
       "      <td>Laptop</td>\n",
       "      <td>250</td>\n",
       "    </tr>\n",
       "    <tr>\n",
       "      <th>4</th>\n",
       "      <td>5</td>\n",
       "      <td>Male</td>\n",
       "      <td>23</td>\n",
       "      <td>Senior</td>\n",
       "      <td>Other</td>\n",
       "      <td>Undecided</td>\n",
       "      <td>2.8</td>\n",
       "      <td>Unemployed</td>\n",
       "      <td>40.0</td>\n",
       "      <td>2</td>\n",
       "      <td>4</td>\n",
       "      <td>500</td>\n",
       "      <td>Laptop</td>\n",
       "      <td>100</td>\n",
       "    </tr>\n",
       "  </tbody>\n",
       "</table>\n",
       "</div>"
      ],
      "text/plain": [
       "   ID  Gender  Age   Class       Major Grad Intention  GPA  Employment  \\\n",
       "0   1  Female   20  Junior       Other            Yes  2.9   Full-Time   \n",
       "1   2    Male   23  Senior  Management            Yes  3.6   Part-Time   \n",
       "2   3    Male   21  Junior       Other            Yes  2.5   Part-Time   \n",
       "3   4    Male   21  Junior         CIS            Yes  2.5   Full-Time   \n",
       "4   5    Male   23  Senior       Other      Undecided  2.8  Unemployed   \n",
       "\n",
       "   Salary  Social Networking  Satisfaction  Spending Computer  Text Messages  \n",
       "0    50.0                  1             3       350   Laptop            200  \n",
       "1    25.0                  1             4       360   Laptop             50  \n",
       "2    45.0                  2             4       600   Laptop            200  \n",
       "3    40.0                  4             6       600   Laptop            250  \n",
       "4    40.0                  2             4       500   Laptop            100  "
      ]
     },
     "execution_count": 16,
     "metadata": {},
     "output_type": "execute_result"
    }
   ],
   "source": [
    "survey_df = pd.read_csv('datasets/Survey-1.csv')\n",
    "survey_df.head()"
   ]
  },
  {
   "cell_type": "markdown",
   "id": "8f8602b3-63f3-4d14-a65b-88f918aa49d2",
   "metadata": {},
   "source": [
    "## Checking the types of variables in the dataset."
   ]
  },
  {
   "cell_type": "code",
   "execution_count": 17,
   "id": "7a45e401-f4e8-41f1-809d-df10b20b8f7c",
   "metadata": {
    "ExecuteTime": {
     "end_time": "2023-01-10T13:52:42.268767Z",
     "start_time": "2023-01-10T13:52:42.254768Z"
    }
   },
   "outputs": [
    {
     "name": "stdout",
     "output_type": "stream",
     "text": [
      "<class 'pandas.core.frame.DataFrame'>\n",
      "RangeIndex: 62 entries, 0 to 61\n",
      "Data columns (total 14 columns):\n",
      " #   Column             Non-Null Count  Dtype  \n",
      "---  ------             --------------  -----  \n",
      " 0   ID                 62 non-null     int64  \n",
      " 1   Gender             62 non-null     object \n",
      " 2   Age                62 non-null     int64  \n",
      " 3   Class              62 non-null     object \n",
      " 4   Major              62 non-null     object \n",
      " 5   Grad Intention     62 non-null     object \n",
      " 6   GPA                62 non-null     float64\n",
      " 7   Employment         62 non-null     object \n",
      " 8   Salary             62 non-null     float64\n",
      " 9   Social Networking  62 non-null     int64  \n",
      " 10  Satisfaction       62 non-null     int64  \n",
      " 11  Spending           62 non-null     int64  \n",
      " 12  Computer           62 non-null     object \n",
      " 13  Text Messages      62 non-null     int64  \n",
      "dtypes: float64(2), int64(6), object(6)\n",
      "memory usage: 6.9+ KB\n"
     ]
    }
   ],
   "source": [
    "survey_df.info()"
   ]
  },
  {
   "cell_type": "markdown",
   "id": "cc38e875",
   "metadata": {},
   "source": [
    "From the above output we can see that:\n",
    "- There are 62 observations from different students in the data.\n",
    "- There are 14 variables, out of which, 6 are of integer type, 2 are of float type and 6 are of object(categorical) type.\n",
    "- The dataset does not have any missing values."
   ]
  },
  {
   "cell_type": "markdown",
   "id": "c2dae5ef-0aa6-4ac3-a25c-cbcc2249c40e",
   "metadata": {
    "toc-hr-collapsed": true
   },
   "source": [
    "## 2.1. For this data, construct the following contingency tables (Keep Gender as row variable)"
   ]
  },
  {
   "cell_type": "markdown",
   "id": "2b1a6828-89e6-4f87-b161-f404631e7a4e",
   "metadata": {},
   "source": [
    "### 2.1.1. Gender and Major"
   ]
  },
  {
   "cell_type": "code",
   "execution_count": 18,
   "id": "ac78fd0d-fa4c-45eb-856d-a8d810f21a62",
   "metadata": {
    "ExecuteTime": {
     "end_time": "2023-01-10T13:52:42.332772Z",
     "start_time": "2023-01-10T13:52:42.270769Z"
    }
   },
   "outputs": [
    {
     "data": {
      "text/html": [
       "<div>\n",
       "<style scoped>\n",
       "    .dataframe tbody tr th:only-of-type {\n",
       "        vertical-align: middle;\n",
       "    }\n",
       "\n",
       "    .dataframe tbody tr th {\n",
       "        vertical-align: top;\n",
       "    }\n",
       "\n",
       "    .dataframe thead th {\n",
       "        text-align: right;\n",
       "    }\n",
       "</style>\n",
       "<table border=\"1\" class=\"dataframe\">\n",
       "  <thead>\n",
       "    <tr style=\"text-align: right;\">\n",
       "      <th>Major</th>\n",
       "      <th>Accounting</th>\n",
       "      <th>CIS</th>\n",
       "      <th>Economics/Finance</th>\n",
       "      <th>International Business</th>\n",
       "      <th>Management</th>\n",
       "      <th>Other</th>\n",
       "      <th>Retailing/Marketing</th>\n",
       "      <th>Undecided</th>\n",
       "      <th>Total</th>\n",
       "    </tr>\n",
       "    <tr>\n",
       "      <th>Gender</th>\n",
       "      <th></th>\n",
       "      <th></th>\n",
       "      <th></th>\n",
       "      <th></th>\n",
       "      <th></th>\n",
       "      <th></th>\n",
       "      <th></th>\n",
       "      <th></th>\n",
       "      <th></th>\n",
       "    </tr>\n",
       "  </thead>\n",
       "  <tbody>\n",
       "    <tr>\n",
       "      <th>Female</th>\n",
       "      <td>3</td>\n",
       "      <td>3</td>\n",
       "      <td>7</td>\n",
       "      <td>4</td>\n",
       "      <td>4</td>\n",
       "      <td>3</td>\n",
       "      <td>9</td>\n",
       "      <td>0</td>\n",
       "      <td>33</td>\n",
       "    </tr>\n",
       "    <tr>\n",
       "      <th>Male</th>\n",
       "      <td>4</td>\n",
       "      <td>1</td>\n",
       "      <td>4</td>\n",
       "      <td>2</td>\n",
       "      <td>6</td>\n",
       "      <td>4</td>\n",
       "      <td>5</td>\n",
       "      <td>3</td>\n",
       "      <td>29</td>\n",
       "    </tr>\n",
       "    <tr>\n",
       "      <th>Total</th>\n",
       "      <td>7</td>\n",
       "      <td>4</td>\n",
       "      <td>11</td>\n",
       "      <td>6</td>\n",
       "      <td>10</td>\n",
       "      <td>7</td>\n",
       "      <td>14</td>\n",
       "      <td>3</td>\n",
       "      <td>62</td>\n",
       "    </tr>\n",
       "  </tbody>\n",
       "</table>\n",
       "</div>"
      ],
      "text/plain": [
       "Major   Accounting  CIS  Economics/Finance  International Business  \\\n",
       "Gender                                                               \n",
       "Female           3    3                  7                       4   \n",
       "Male             4    1                  4                       2   \n",
       "Total            7    4                 11                       6   \n",
       "\n",
       "Major   Management  Other  Retailing/Marketing  Undecided  Total  \n",
       "Gender                                                            \n",
       "Female           4      3                    9          0     33  \n",
       "Male             6      4                    5          3     29  \n",
       "Total           10      7                   14          3     62  "
      ]
     },
     "execution_count": 18,
     "metadata": {},
     "output_type": "execute_result"
    }
   ],
   "source": [
    "gender_vs_major = pd.crosstab(index=survey_df['Gender'], columns=survey_df['Major'], margins=True, margins_name='Total')\n",
    "gender_vs_major"
   ]
  },
  {
   "cell_type": "markdown",
   "id": "ada6299c-7fac-4ca6-adcb-c8ffd1f229f0",
   "metadata": {},
   "source": [
    "### 2.1.2. Gender and Grad Intention"
   ]
  },
  {
   "cell_type": "code",
   "execution_count": 19,
   "id": "aa541c4d-9be9-414c-a64a-e7c9d23a4487",
   "metadata": {
    "ExecuteTime": {
     "end_time": "2023-01-10T13:52:42.380776Z",
     "start_time": "2023-01-10T13:52:42.334776Z"
    }
   },
   "outputs": [
    {
     "data": {
      "text/html": [
       "<div>\n",
       "<style scoped>\n",
       "    .dataframe tbody tr th:only-of-type {\n",
       "        vertical-align: middle;\n",
       "    }\n",
       "\n",
       "    .dataframe tbody tr th {\n",
       "        vertical-align: top;\n",
       "    }\n",
       "\n",
       "    .dataframe thead th {\n",
       "        text-align: right;\n",
       "    }\n",
       "</style>\n",
       "<table border=\"1\" class=\"dataframe\">\n",
       "  <thead>\n",
       "    <tr style=\"text-align: right;\">\n",
       "      <th>Grad Intention</th>\n",
       "      <th>No</th>\n",
       "      <th>Undecided</th>\n",
       "      <th>Yes</th>\n",
       "      <th>Total</th>\n",
       "    </tr>\n",
       "    <tr>\n",
       "      <th>Gender</th>\n",
       "      <th></th>\n",
       "      <th></th>\n",
       "      <th></th>\n",
       "      <th></th>\n",
       "    </tr>\n",
       "  </thead>\n",
       "  <tbody>\n",
       "    <tr>\n",
       "      <th>Female</th>\n",
       "      <td>9</td>\n",
       "      <td>13</td>\n",
       "      <td>11</td>\n",
       "      <td>33</td>\n",
       "    </tr>\n",
       "    <tr>\n",
       "      <th>Male</th>\n",
       "      <td>3</td>\n",
       "      <td>9</td>\n",
       "      <td>17</td>\n",
       "      <td>29</td>\n",
       "    </tr>\n",
       "    <tr>\n",
       "      <th>Total</th>\n",
       "      <td>12</td>\n",
       "      <td>22</td>\n",
       "      <td>28</td>\n",
       "      <td>62</td>\n",
       "    </tr>\n",
       "  </tbody>\n",
       "</table>\n",
       "</div>"
      ],
      "text/plain": [
       "Grad Intention  No  Undecided  Yes  Total\n",
       "Gender                                   \n",
       "Female           9         13   11     33\n",
       "Male             3          9   17     29\n",
       "Total           12         22   28     62"
      ]
     },
     "execution_count": 19,
     "metadata": {},
     "output_type": "execute_result"
    }
   ],
   "source": [
    "gender_vs_grad_intent = pd.crosstab(index=survey_df['Gender'], columns=survey_df['Grad Intention'], margins=True, margins_name='Total')\n",
    "gender_vs_grad_intent"
   ]
  },
  {
   "cell_type": "markdown",
   "id": "7b6142fe-1144-4239-ba56-7a1aa0f14db7",
   "metadata": {},
   "source": [
    "### 2.1.3. Gender and Employment"
   ]
  },
  {
   "cell_type": "code",
   "execution_count": 20,
   "id": "bb800878-0f8b-4af4-bf25-ee4e9ef13d74",
   "metadata": {
    "ExecuteTime": {
     "end_time": "2023-01-10T13:52:42.428780Z",
     "start_time": "2023-01-10T13:52:42.382778Z"
    }
   },
   "outputs": [
    {
     "data": {
      "text/html": [
       "<div>\n",
       "<style scoped>\n",
       "    .dataframe tbody tr th:only-of-type {\n",
       "        vertical-align: middle;\n",
       "    }\n",
       "\n",
       "    .dataframe tbody tr th {\n",
       "        vertical-align: top;\n",
       "    }\n",
       "\n",
       "    .dataframe thead th {\n",
       "        text-align: right;\n",
       "    }\n",
       "</style>\n",
       "<table border=\"1\" class=\"dataframe\">\n",
       "  <thead>\n",
       "    <tr style=\"text-align: right;\">\n",
       "      <th>Employment</th>\n",
       "      <th>Full-Time</th>\n",
       "      <th>Part-Time</th>\n",
       "      <th>Unemployed</th>\n",
       "      <th>Total</th>\n",
       "    </tr>\n",
       "    <tr>\n",
       "      <th>Gender</th>\n",
       "      <th></th>\n",
       "      <th></th>\n",
       "      <th></th>\n",
       "      <th></th>\n",
       "    </tr>\n",
       "  </thead>\n",
       "  <tbody>\n",
       "    <tr>\n",
       "      <th>Female</th>\n",
       "      <td>3</td>\n",
       "      <td>24</td>\n",
       "      <td>6</td>\n",
       "      <td>33</td>\n",
       "    </tr>\n",
       "    <tr>\n",
       "      <th>Male</th>\n",
       "      <td>7</td>\n",
       "      <td>19</td>\n",
       "      <td>3</td>\n",
       "      <td>29</td>\n",
       "    </tr>\n",
       "    <tr>\n",
       "      <th>Total</th>\n",
       "      <td>10</td>\n",
       "      <td>43</td>\n",
       "      <td>9</td>\n",
       "      <td>62</td>\n",
       "    </tr>\n",
       "  </tbody>\n",
       "</table>\n",
       "</div>"
      ],
      "text/plain": [
       "Employment  Full-Time  Part-Time  Unemployed  Total\n",
       "Gender                                             \n",
       "Female              3         24           6     33\n",
       "Male                7         19           3     29\n",
       "Total              10         43           9     62"
      ]
     },
     "execution_count": 20,
     "metadata": {},
     "output_type": "execute_result"
    }
   ],
   "source": [
    "gender_vs_employment = pd.crosstab(index=survey_df['Gender'], columns=survey_df['Employment'], margins=True, margins_name='Total')\n",
    "gender_vs_employment"
   ]
  },
  {
   "cell_type": "markdown",
   "id": "fdd57edc-45bf-4c81-845d-298126dfa889",
   "metadata": {},
   "source": [
    "### 2.1.4. Gender and Computer"
   ]
  },
  {
   "cell_type": "code",
   "execution_count": 21,
   "id": "40405a7e-a5a4-45aa-adb9-5e5d71f53404",
   "metadata": {
    "ExecuteTime": {
     "end_time": "2023-01-10T13:52:42.476784Z",
     "start_time": "2023-01-10T13:52:42.430783Z"
    }
   },
   "outputs": [
    {
     "data": {
      "text/html": [
       "<div>\n",
       "<style scoped>\n",
       "    .dataframe tbody tr th:only-of-type {\n",
       "        vertical-align: middle;\n",
       "    }\n",
       "\n",
       "    .dataframe tbody tr th {\n",
       "        vertical-align: top;\n",
       "    }\n",
       "\n",
       "    .dataframe thead th {\n",
       "        text-align: right;\n",
       "    }\n",
       "</style>\n",
       "<table border=\"1\" class=\"dataframe\">\n",
       "  <thead>\n",
       "    <tr style=\"text-align: right;\">\n",
       "      <th>Computer</th>\n",
       "      <th>Desktop</th>\n",
       "      <th>Laptop</th>\n",
       "      <th>Tablet</th>\n",
       "      <th>Total</th>\n",
       "    </tr>\n",
       "    <tr>\n",
       "      <th>Gender</th>\n",
       "      <th></th>\n",
       "      <th></th>\n",
       "      <th></th>\n",
       "      <th></th>\n",
       "    </tr>\n",
       "  </thead>\n",
       "  <tbody>\n",
       "    <tr>\n",
       "      <th>Female</th>\n",
       "      <td>2</td>\n",
       "      <td>29</td>\n",
       "      <td>2</td>\n",
       "      <td>33</td>\n",
       "    </tr>\n",
       "    <tr>\n",
       "      <th>Male</th>\n",
       "      <td>3</td>\n",
       "      <td>26</td>\n",
       "      <td>0</td>\n",
       "      <td>29</td>\n",
       "    </tr>\n",
       "    <tr>\n",
       "      <th>Total</th>\n",
       "      <td>5</td>\n",
       "      <td>55</td>\n",
       "      <td>2</td>\n",
       "      <td>62</td>\n",
       "    </tr>\n",
       "  </tbody>\n",
       "</table>\n",
       "</div>"
      ],
      "text/plain": [
       "Computer  Desktop  Laptop  Tablet  Total\n",
       "Gender                                  \n",
       "Female          2      29       2     33\n",
       "Male            3      26       0     29\n",
       "Total           5      55       2     62"
      ]
     },
     "execution_count": 21,
     "metadata": {},
     "output_type": "execute_result"
    }
   ],
   "source": [
    "gender_vs_computer = pd.crosstab(index=survey_df['Gender'], columns=survey_df['Computer'], margins=True, margins_name='Total')\n",
    "gender_vs_computer"
   ]
  },
  {
   "cell_type": "markdown",
   "id": "57e16e0a-5fa3-421b-8563-5ee99c7a565b",
   "metadata": {
    "toc-hr-collapsed": true
   },
   "source": [
    "## 2.2. Assume that the sample is representative of the population of CMSU. Based on the data, answer the following question:"
   ]
  },
  {
   "cell_type": "markdown",
   "id": "e3835613-accf-4910-bca3-b96275ce8cd9",
   "metadata": {
    "tags": []
   },
   "source": [
    "### 2.2.1. What is the probability that a randomly selected CMSU student will be male?"
   ]
  },
  {
   "cell_type": "markdown",
   "id": "aac8c426",
   "metadata": {},
   "source": [
    "Out of the total 62 students, 29 students are male."
   ]
  },
  {
   "cell_type": "code",
   "execution_count": 22,
   "id": "b20a6337-3bac-41ce-8a7f-9eb3a52f3db5",
   "metadata": {
    "ExecuteTime": {
     "end_time": "2023-01-10T13:52:42.492785Z",
     "start_time": "2023-01-10T13:52:42.478785Z"
    }
   },
   "outputs": [
    {
     "name": "stdout",
     "output_type": "stream",
     "text": [
      "Hence the probability that a randomly selected CMSU student will be male is 0.468.\n"
     ]
    }
   ],
   "source": [
    "male_prob = 29 / 62\n",
    "print(f\"Hence the probability that a randomly selected CMSU student will be male is {round(male_prob, 3)}.\")"
   ]
  },
  {
   "cell_type": "markdown",
   "id": "614f494a-2569-4cd3-8fa8-dd6d3895a273",
   "metadata": {
    "tags": []
   },
   "source": [
    "### 2.2.2. What is the probability that a randomly selected CMSU student will be female?"
   ]
  },
  {
   "cell_type": "markdown",
   "id": "867cc042",
   "metadata": {},
   "source": [
    "Out of the total 62 students, 33 students are female."
   ]
  },
  {
   "cell_type": "code",
   "execution_count": 23,
   "id": "eb9a5fd5-fd37-4806-a392-7fb445b963d5",
   "metadata": {
    "ExecuteTime": {
     "end_time": "2023-01-10T13:52:42.508786Z",
     "start_time": "2023-01-10T13:52:42.494790Z"
    }
   },
   "outputs": [
    {
     "name": "stdout",
     "output_type": "stream",
     "text": [
      "Hence the probability that a randomly selected CMSU student will be female is 0.532.\n"
     ]
    }
   ],
   "source": [
    "female_prob = 33 / 62\n",
    "print(f\"Hence the probability that a randomly selected CMSU student will be female is {round(female_prob, 3)}.\")"
   ]
  },
  {
   "cell_type": "markdown",
   "id": "9b2fa1fa-09d6-4bc9-9542-8524e5040a85",
   "metadata": {
    "jp-MarkdownHeadingCollapsed": true,
    "tags": [],
    "toc-hr-collapsed": true
   },
   "source": [
    "## 2.3. Assume that the sample is representative of the population of CMSU. Based on the data, answer the following question:"
   ]
  },
  {
   "cell_type": "markdown",
   "id": "4a2a50ae-cfca-45e0-913e-e4338c6c7dad",
   "metadata": {},
   "source": [
    "### 2.3.1. Find the conditional probability of different majors among the male students in CMSU."
   ]
  },
  {
   "cell_type": "code",
   "execution_count": 24,
   "id": "f39de073-1f9d-4fcb-868c-93801d1ec117",
   "metadata": {
    "ExecuteTime": {
     "end_time": "2023-01-10T13:52:42.524790Z",
     "start_time": "2023-01-10T13:52:42.510788Z"
    }
   },
   "outputs": [],
   "source": [
    "account_male_prob = gender_vs_major.loc['Male', 'Accounting'] / gender_vs_major.loc['Male', 'Total']\n",
    "cis_male_prob = gender_vs_major.loc['Male', 'CIS'] / gender_vs_major.loc['Male', 'Total']\n",
    "economics_male_prob = gender_vs_major.loc['Male', 'Economics/Finance'] / gender_vs_major.loc['Male', 'Total']\n",
    "business_male_prob = gender_vs_major.loc['Male', 'International Business'] / gender_vs_major.loc['Male', 'Total']\n",
    "manage_male_prob = gender_vs_major.loc['Male', 'Management'] / gender_vs_major.loc['Male', 'Total']\n",
    "other_male_prob = gender_vs_major.loc['Male', 'Other'] / gender_vs_major.loc['Male', 'Total']\n",
    "market_male_prob = gender_vs_major.loc['Male', 'Retailing/Marketing'] / gender_vs_major.loc['Male', 'Total']\n",
    "undecided_male_prob = gender_vs_major.loc['Male', 'Undecided'] / gender_vs_major.loc['Male', 'Total']"
   ]
  },
  {
   "cell_type": "code",
   "execution_count": 25,
   "id": "b5ea7f94-632e-4915-91a7-fc80511c0b1c",
   "metadata": {
    "ExecuteTime": {
     "end_time": "2023-01-10T13:52:42.540788Z",
     "start_time": "2023-01-10T13:52:42.526790Z"
    }
   },
   "outputs": [
    {
     "name": "stdout",
     "output_type": "stream",
     "text": [
      "Conditional probability that a Male student has an Accounting major is 0.138.\n",
      "Conditional probability that a Male student has a CIS major is 0.034.\n",
      "Conditional probability that a Male student has an Economics/Finance major is 0.138.\n",
      "Conditional probability that a Male student has an International Business major is 0.069.\n",
      "Conditional probability that a Male student has a Management major is 0.207.\n",
      "Conditional probability that a Male student has Other major is 0.138.\n",
      "Conditional probability that a Male student has a Retailing/Marketing major is 0.172.\n",
      "Conditional probability that a Male student has an Undecided major is 0.103.\n"
     ]
    }
   ],
   "source": [
    "print(f\"Conditional probability that a Male student has an Accounting major is {round(account_male_prob, 3)}.\")\n",
    "print(f\"Conditional probability that a Male student has a CIS major is {round(cis_male_prob, 3)}.\")\n",
    "print(f\"Conditional probability that a Male student has an Economics/Finance major is {round(economics_male_prob, 3)}.\")\n",
    "print(f\"Conditional probability that a Male student has an International Business major is {round(business_male_prob, 3)}.\")\n",
    "print(f\"Conditional probability that a Male student has a Management major is {round(manage_male_prob, 3)}.\")\n",
    "print(f\"Conditional probability that a Male student has Other major is {round(other_male_prob, 3)}.\")\n",
    "print(f\"Conditional probability that a Male student has a Retailing/Marketing major is {round(market_male_prob, 3)}.\")\n",
    "print(f\"Conditional probability that a Male student has an Undecided major is {round(undecided_male_prob, 3)}.\")"
   ]
  },
  {
   "cell_type": "markdown",
   "id": "c6862993-2448-4f94-ab38-d1f42dcedc5b",
   "metadata": {},
   "source": [
    "### 2.3.2. Find the conditional probability of different majors among the female students in CMSU."
   ]
  },
  {
   "cell_type": "code",
   "execution_count": 26,
   "id": "18eb7891-020b-4d76-9256-5b5573640f12",
   "metadata": {
    "ExecuteTime": {
     "end_time": "2023-01-10T13:52:42.556792Z",
     "start_time": "2023-01-10T13:52:42.542792Z"
    }
   },
   "outputs": [],
   "source": [
    "account_female_prob = gender_vs_major.loc['Female', 'Accounting'] / gender_vs_major.loc['Female', 'Total']\n",
    "cis_female_prob = gender_vs_major.loc['Female', 'CIS'] / gender_vs_major.loc['Female', 'Total']\n",
    "economics_female_prob = gender_vs_major.loc['Female', 'Economics/Finance'] / gender_vs_major.loc['Female', 'Total']\n",
    "business_female_prob = gender_vs_major.loc['Female', 'International Business'] / gender_vs_major.loc['Female', 'Total']\n",
    "manage_female_prob = gender_vs_major.loc['Female', 'Management'] / gender_vs_major.loc['Female', 'Total']\n",
    "other_female_prob = gender_vs_major.loc['Female', 'Other'] / gender_vs_major.loc['Female', 'Total']\n",
    "market_female_prob = gender_vs_major.loc['Female', 'Retailing/Marketing'] / gender_vs_major.loc['Female', 'Total']\n",
    "undecided_female_prob = gender_vs_major.loc['Female', 'Undecided'] / gender_vs_major.loc['Female', 'Total']"
   ]
  },
  {
   "cell_type": "code",
   "execution_count": 27,
   "id": "2d961614-6d02-4d93-9835-61e5bc5d28c4",
   "metadata": {
    "ExecuteTime": {
     "end_time": "2023-01-10T13:52:42.573792Z",
     "start_time": "2023-01-10T13:52:42.564793Z"
    }
   },
   "outputs": [
    {
     "name": "stdout",
     "output_type": "stream",
     "text": [
      "Conditional probability that a Female student has an Accounting major is 0.091.\n",
      "Conditional probability that a Female student has a CIS major is 0.091.\n",
      "Conditional probability that a Female student has an Economics/Finance major is 0.212.\n",
      "Conditional probability that a Female student has an International Business major is 0.121.\n",
      "Conditional probability that a Female student has a Management major is 0.121.\n",
      "Conditional probability that a Female student has Other major is 0.091.\n",
      "Conditional probability that a Female student has a Retailing/Marketing major is 0.273.\n",
      "Conditional probability that a Female student has an Undecided major is 0.0.\n"
     ]
    }
   ],
   "source": [
    "print(f\"Conditional probability that a Female student has an Accounting major is {round(account_female_prob, 3)}.\")\n",
    "print(f\"Conditional probability that a Female student has a CIS major is {round(cis_female_prob, 3)}.\")\n",
    "print(f\"Conditional probability that a Female student has an Economics/Finance major is {round(economics_female_prob, 3)}.\")\n",
    "print(f\"Conditional probability that a Female student has an International Business major is {round(business_female_prob, 3)}.\")\n",
    "print(f\"Conditional probability that a Female student has a Management major is {round(manage_female_prob, 3)}.\")\n",
    "print(f\"Conditional probability that a Female student has Other major is {round(other_female_prob, 3)}.\")\n",
    "print(f\"Conditional probability that a Female student has a Retailing/Marketing major is {round(market_female_prob, 3)}.\")\n",
    "print(f\"Conditional probability that a Female student has an Undecided major is {round(undecided_female_prob, 3)}.\")"
   ]
  },
  {
   "cell_type": "markdown",
   "id": "7dc02273-3cb2-44bf-97b3-59807c05558b",
   "metadata": {
    "tags": [],
    "toc-hr-collapsed": true
   },
   "source": [
    "## 2.4. Assume that the sample is a representative of the population of CMSU. Based on the data, answer the following question:"
   ]
  },
  {
   "cell_type": "markdown",
   "id": "9f265612-ca06-4a51-b12a-8411ba83ed7c",
   "metadata": {},
   "source": [
    "### 2.4.1. Find the probability that a randomly chosen student is a male and intends to graduate."
   ]
  },
  {
   "cell_type": "markdown",
   "id": "e0d0b52a",
   "metadata": {},
   "source": [
    "Out of the 62 students, 17 students are male who intends to graduate. "
   ]
  },
  {
   "cell_type": "code",
   "execution_count": 28,
   "id": "32e17437-5652-417c-ab92-9f624f496854",
   "metadata": {
    "ExecuteTime": {
     "end_time": "2023-01-10T13:52:42.604796Z",
     "start_time": "2023-01-10T13:52:42.592796Z"
    }
   },
   "outputs": [
    {
     "name": "stdout",
     "output_type": "stream",
     "text": [
      "Hence the probability that a randomly chosen student is a male and intends to graduate is 0.274.\n"
     ]
    }
   ],
   "source": [
    "grad_yes_male = gender_vs_grad_intent.loc['Male', 'Yes'] / 62\n",
    "print(f\"Hence the probability that a randomly chosen student is a male and intends to graduate is {round(grad_yes_male, 3)}.\")"
   ]
  },
  {
   "cell_type": "markdown",
   "id": "c051e39c-7395-4d04-88c2-29235b79e397",
   "metadata": {},
   "source": [
    "### 2.4.2 Find the probability that a randomly selected student is a female and does NOT have a laptop. "
   ]
  },
  {
   "cell_type": "markdown",
   "id": "fdac7e81",
   "metadata": {},
   "source": [
    "Out of the 62 students, 4 students are female who do not have a laptop."
   ]
  },
  {
   "cell_type": "code",
   "execution_count": 29,
   "id": "a48fea20-c7f9-4b76-b028-7c4fe90f34e4",
   "metadata": {
    "ExecuteTime": {
     "end_time": "2023-01-10T13:52:42.620795Z",
     "start_time": "2023-01-10T13:52:42.606796Z"
    }
   },
   "outputs": [
    {
     "name": "stdout",
     "output_type": "stream",
     "text": [
      "Hence the probability that a randomly chosen student is a female and does NOT have a laptop is 0.065.\n"
     ]
    }
   ],
   "source": [
    "no_laptop_female = gender_vs_computer.loc['Female', ['Desktop', 'Tablet']].sum() / 62\n",
    "print(f\"Hence the probability that a randomly chosen student is a female and does NOT have a laptop is {round(no_laptop_female, 3)}.\")"
   ]
  },
  {
   "cell_type": "markdown",
   "id": "d18a0c56-06cf-48c3-9614-3767d9ebe61c",
   "metadata": {
    "toc-hr-collapsed": true
   },
   "source": [
    "## 2.5. Assume that the sample is representative of the population of CMSU. Based on the data, answer the following question:"
   ]
  },
  {
   "cell_type": "markdown",
   "id": "bef42d68-d73c-4fc5-b474-d7bc2cb2f152",
   "metadata": {},
   "source": [
    "### 2.5.1. Find the probability that a randomly chosen student is a male or has full-time employment?"
   ]
  },
  {
   "cell_type": "code",
   "execution_count": 30,
   "id": "6dbacd4b-9652-44cf-b2f9-933a5eb181e6",
   "metadata": {
    "ExecuteTime": {
     "end_time": "2023-01-10T13:52:42.636796Z",
     "start_time": "2023-01-10T13:52:42.622797Z"
    }
   },
   "outputs": [
    {
     "name": "stdout",
     "output_type": "stream",
     "text": [
      "Out of the 62 students, 29 are male, 10 have full time jobs, and 7 are both male and have full time jobs.\n",
      "Hence the probability that a randomly chosen student is a male or has full-time employment is 0.516.\n"
     ]
    }
   ],
   "source": [
    "full_time_male = (gender_vs_employment.loc['Male', 'Total'] + \n",
    "                  gender_vs_employment.loc['Total', 'Full-Time'] - \n",
    "                  gender_vs_employment.loc['Male', 'Full-Time']) / 62\n",
    "print(f\"Out of the 62 students, 29 are male, 10 have full time jobs, and 7 are both male and have full time jobs.\\n\"\n",
    "      f\"Hence the probability that a randomly chosen student is a male or has full-time employment is {round(full_time_male, 3)}.\")"
   ]
  },
  {
   "cell_type": "markdown",
   "id": "f2512a2e-036c-4849-a232-267e0a049c95",
   "metadata": {
    "tags": []
   },
   "source": [
    "### 2.5.2. Find the conditional probability that given a female student is randomly chosen, she is majoring in international business or management."
   ]
  },
  {
   "cell_type": "markdown",
   "id": "c6457f1c",
   "metadata": {},
   "source": [
    "Out of the 33 female students, 4 are majoring in International Business and 4 are majoring in Management."
   ]
  },
  {
   "cell_type": "code",
   "execution_count": 31,
   "id": "8cbf9e08-6909-461d-b71a-10c8ea30030a",
   "metadata": {
    "ExecuteTime": {
     "end_time": "2023-01-10T13:52:42.652797Z",
     "start_time": "2023-01-10T13:52:42.639798Z"
    }
   },
   "outputs": [
    {
     "name": "stdout",
     "output_type": "stream",
     "text": [
      "Hence the conditional probability that given a female student is randomly chosen, she is majoring in international business or management is 0.242.\n"
     ]
    }
   ],
   "source": [
    "business_manage_female = gender_vs_major.loc['Female', ['International Business', 'Management']].sum() / gender_vs_major.loc['Female', 'Total']\n",
    "print(f\"Hence the conditional probability that given a female student is randomly chosen, she is majoring in \"\n",
    "      f\"international business or management is {round(business_manage_female, 3)}.\")"
   ]
  },
  {
   "cell_type": "markdown",
   "id": "0d3c694e-7da7-40a4-889a-1d715268fc4d",
   "metadata": {},
   "source": [
    "## 2.6.  Construct a contingency table of Gender and Intent to Graduate at 2 levels (Yes/No). The Undecided students are not considered now and the table is a 2x2 table. Do you think the graduate intention and being female are independent events?"
   ]
  },
  {
   "cell_type": "code",
   "execution_count": 32,
   "id": "b0a6e874-33a5-422f-a11c-3aa58466e405",
   "metadata": {
    "ExecuteTime": {
     "end_time": "2023-01-10T13:52:42.700804Z",
     "start_time": "2023-01-10T13:52:42.654799Z"
    }
   },
   "outputs": [
    {
     "data": {
      "text/html": [
       "<div>\n",
       "<style scoped>\n",
       "    .dataframe tbody tr th:only-of-type {\n",
       "        vertical-align: middle;\n",
       "    }\n",
       "\n",
       "    .dataframe tbody tr th {\n",
       "        vertical-align: top;\n",
       "    }\n",
       "\n",
       "    .dataframe thead th {\n",
       "        text-align: right;\n",
       "    }\n",
       "</style>\n",
       "<table border=\"1\" class=\"dataframe\">\n",
       "  <thead>\n",
       "    <tr style=\"text-align: right;\">\n",
       "      <th>Grad Intention</th>\n",
       "      <th>No</th>\n",
       "      <th>Yes</th>\n",
       "      <th>Total</th>\n",
       "    </tr>\n",
       "    <tr>\n",
       "      <th>Gender</th>\n",
       "      <th></th>\n",
       "      <th></th>\n",
       "      <th></th>\n",
       "    </tr>\n",
       "  </thead>\n",
       "  <tbody>\n",
       "    <tr>\n",
       "      <th>Female</th>\n",
       "      <td>9</td>\n",
       "      <td>11</td>\n",
       "      <td>20</td>\n",
       "    </tr>\n",
       "    <tr>\n",
       "      <th>Male</th>\n",
       "      <td>3</td>\n",
       "      <td>17</td>\n",
       "      <td>20</td>\n",
       "    </tr>\n",
       "    <tr>\n",
       "      <th>Total</th>\n",
       "      <td>12</td>\n",
       "      <td>28</td>\n",
       "      <td>40</td>\n",
       "    </tr>\n",
       "  </tbody>\n",
       "</table>\n",
       "</div>"
      ],
      "text/plain": [
       "Grad Intention  No  Yes  Total\n",
       "Gender                        \n",
       "Female           9   11     20\n",
       "Male             3   17     20\n",
       "Total           12   28     40"
      ]
     },
     "execution_count": 32,
     "metadata": {},
     "output_type": "execute_result"
    }
   ],
   "source": [
    "gender_vs_intent_2_levels = survey_df.loc[survey_df['Grad Intention'] != 'Undecided', ['Gender', 'Grad Intention']]\n",
    "gender_vs_intent_2_levels = pd.crosstab(index=gender_vs_intent_2_levels['Gender'], \n",
    "                                        columns=gender_vs_intent_2_levels['Grad Intention'], \n",
    "                                        margins=True, margins_name='Total')\n",
    "gender_vs_intent_2_levels"
   ]
  },
  {
   "cell_type": "code",
   "execution_count": 33,
   "id": "0bfb6535-2b41-4e34-813d-5793c4b37843",
   "metadata": {
    "ExecuteTime": {
     "end_time": "2023-01-10T13:52:42.716803Z",
     "start_time": "2023-01-10T13:52:42.704802Z"
    }
   },
   "outputs": [
    {
     "name": "stdout",
     "output_type": "stream",
     "text": [
      "Hence using the above mentioned formula we find that the graduate intention and being female are not independent events.\n"
     ]
    }
   ],
   "source": [
    "female_prob = gender_vs_intent_2_levels.loc['Female', 'Total'] / gender_vs_intent_2_levels.loc['Total', 'Total']\n",
    "yes_intent_prob = gender_vs_intent_2_levels.loc['Total', 'Yes'] / gender_vs_intent_2_levels.loc['Total', 'Total']\n",
    "yes_intent_and_female = gender_vs_intent_2_levels.loc['Female', 'Yes'] / gender_vs_intent_2_levels.loc['Total', 'Total']\n",
    "\n",
    "if yes_intent_and_female == (female_prob * yes_intent_prob):\n",
    "    print(\"Hence using the above mentioned formula we find that the graduate intention and being female are independent events.\")\n",
    "else:\n",
    "    print(\"Hence using the above mentioned formula we find that the graduate intention and being female are not independent events.\")"
   ]
  },
  {
   "cell_type": "markdown",
   "id": "559cb0eb-c423-4b98-abdf-5a7eb5c77384",
   "metadata": {
    "toc-hr-collapsed": true
   },
   "source": [
    "## 2.7. Note that there are four numerical (continuous) variables in the data set, GPA, Salary, Spending, and Text Messages.<br/>Answer the following questions based on the data"
   ]
  },
  {
   "cell_type": "markdown",
   "id": "4e43871d-5c1a-430c-b3ed-1efd7fad081a",
   "metadata": {},
   "source": [
    "### 2.7.1. If a student is chosen randomly, what is the probability that his/her GPA is less than 3?"
   ]
  },
  {
   "cell_type": "code",
   "execution_count": 34,
   "id": "266dc5d2-32dc-40ab-be16-6b55aeebc5df",
   "metadata": {
    "ExecuteTime": {
     "end_time": "2023-01-10T13:52:42.732804Z",
     "start_time": "2023-01-10T13:52:42.718806Z"
    }
   },
   "outputs": [
    {
     "name": "stdout",
     "output_type": "stream",
     "text": [
      "Out of the 62 students, 17 students have GPA less than 3.\n",
      "Hence if a student is chosen randomly, the probability that his/her GPA is less than 3 is 0.274.\n"
     ]
    }
   ],
   "source": [
    "gpa_less_than_3_prob = survey_df[survey_df['GPA'] < 3].shape[0] / survey_df.shape[0]\n",
    "print(f\"Out of the 62 students, 17 students have GPA less than 3.\\n\"\n",
    "      f\"Hence if a student is chosen randomly, the probability that his/her GPA is less than 3 is {round(gpa_less_than_3_prob, 3)}.\")"
   ]
  },
  {
   "cell_type": "markdown",
   "id": "3a5e5fae-742b-4811-befa-53c615656629",
   "metadata": {},
   "source": [
    "### 2.7.2. Find the conditional probability that a randomly selected male earns 50 or more. Find the conditional probability that a randomly selected female earns 50 or more."
   ]
  },
  {
   "cell_type": "code",
   "execution_count": 35,
   "id": "81c80973-f9c3-40d6-96fb-a804ccb7a715",
   "metadata": {
    "ExecuteTime": {
     "end_time": "2023-01-10T13:52:42.748807Z",
     "start_time": "2023-01-10T13:52:42.734810Z"
    }
   },
   "outputs": [
    {
     "name": "stdout",
     "output_type": "stream",
     "text": [
      "Out of the 29 male students, 14 students have salaries more than or equal to 50.\n",
      "Hence the conditional probability that a randomly selected male earns 50 or more is 0.483.\n"
     ]
    }
   ],
   "source": [
    "male_salary_more_50 = survey_df[(survey_df['Gender'] == 'Male') & (survey_df['Salary'] >= 50)].shape[0] / survey_df[survey_df['Gender'] == 'Male'].shape[0]\n",
    "print(f\"Out of the 29 male students, 14 students have salaries more than or equal to 50.\\n\"\n",
    "      f\"Hence the conditional probability that a randomly selected male earns 50 or more is {round(male_salary_more_50, 3)}.\")"
   ]
  },
  {
   "cell_type": "code",
   "execution_count": 36,
   "id": "674fdc6c-4441-422c-872b-4593e24468f2",
   "metadata": {
    "ExecuteTime": {
     "end_time": "2023-01-10T13:52:42.764807Z",
     "start_time": "2023-01-10T13:52:42.750807Z"
    }
   },
   "outputs": [
    {
     "name": "stdout",
     "output_type": "stream",
     "text": [
      "Out of the 33 female students, 18 students have salaries more than or equal to 50.\n",
      "Hence the conditional probability that a randomly selected female earns 50 or more is 0.545.\n"
     ]
    }
   ],
   "source": [
    "female_salary_more_50 = survey_df[(survey_df['Gender'] == 'Female') & (survey_df['Salary'] >= 50)].shape[0] / survey_df[survey_df['Gender'] == 'Female'].shape[0]\n",
    "print(f\"Out of the 33 female students, 18 students have salaries more than or equal to 50.\\n\"\n",
    "      f\"Hence the conditional probability that a randomly selected female earns 50 or more is {round(female_salary_more_50, 3)}.\")"
   ]
  },
  {
   "cell_type": "markdown",
   "id": "c10cd352-69bb-4b24-b033-42c29f724c28",
   "metadata": {},
   "source": [
    "## 2.8. Note that there are four numerical (continuous) variables in the data set, GPA, Salary, Spending, and Text Messages. For each of them comment whether they follow a normal distribution. Write a note summarizing your conclusions."
   ]
  },
  {
   "cell_type": "code",
   "execution_count": 37,
   "id": "73564454-d97c-4a9e-b3af-a73cef78f989",
   "metadata": {
    "ExecuteTime": {
     "end_time": "2023-01-10T13:52:43.623118Z",
     "start_time": "2023-01-10T13:52:42.766810Z"
    }
   },
   "outputs": [
    {
     "data": {
      "image/png": "[encoded data removed]",
      "text/plain": [
       "<Figure size 1000x1000 with 4 Axes>"
      ]
     },
     "metadata": {},
     "output_type": "display_data"
    }
   ],
   "source": [
    "axs = survey_df.hist(column=['GPA', 'Salary', 'Spending', 'Text Messages'], \n",
    "                  figsize=(10, 10), bins=8, layout=(2, 2))\n",
    "for ax in axs.flatten():\n",
    "    ax.set_ylabel(\"Frequency\", size=15)\n",
    "plt.suptitle('Distribution of Continous Variables in Survey dataset', size=17)\n",
    "plt.tight_layout();\n",
    "# plt.savefig('images/Figure5.svg')"
   ]
  },
  {
   "cell_type": "markdown",
   "id": "1cff36bf-41b9-4929-bf05-7b3c47782e87",
   "metadata": {},
   "source": [
    "Theoretically the mean, median and mode of a normal distribution are equal."
   ]
  },
  {
   "cell_type": "markdown",
   "id": "52b3fae1-b765-43cb-9e04-7e08668cbeaa",
   "metadata": {},
   "source": [
    "### Distribution of GPA"
   ]
  },
  {
   "cell_type": "code",
   "execution_count": 38,
   "id": "9eb424cb-915e-4171-a28d-09900ad0ad6a",
   "metadata": {
    "ExecuteTime": {
     "end_time": "2023-01-10T13:52:43.639202Z",
     "start_time": "2023-01-10T13:52:43.626201Z"
    }
   },
   "outputs": [
    {
     "name": "stdout",
     "output_type": "stream",
     "text": [
      "For the GPA variable:\n",
      "Mean = 3.1\n",
      "Median = 3.2\n",
      "Mode = [3.0, 3.1, 3.4]\n"
     ]
    }
   ],
   "source": [
    "gpa_mean = survey_df['GPA'].mean()\n",
    "gpa_median = survey_df['GPA'].median()\n",
    "gpa_mode = survey_df['GPA'].mode()\n",
    "gpa_std = survey_df['GPA'].std()\n",
    "print(f\"For the GPA variable:\\n\"\n",
    "      f\"Mean = {round(gpa_mean, 1)}\\n\"\n",
    "      f\"Median = {round(gpa_median, 1)}\\n\"\n",
    "      f\"Mode = [{gpa_mode[0]}, {gpa_mode[1]}, {gpa_mode[2]}]\")"
   ]
  },
  {
   "cell_type": "code",
   "execution_count": 39,
   "id": "6a07786c-c65e-4ed6-87fc-9b30659c1551",
   "metadata": {
    "ExecuteTime": {
     "end_time": "2023-01-10T13:52:43.829215Z",
     "start_time": "2023-01-10T13:52:43.642203Z"
    }
   },
   "outputs": [
    {
     "data": {
      "image/png": "[encoded data removed]",
      "text/plain": [
       "<Figure size 700x700 with 1 Axes>"
      ]
     },
     "metadata": {},
     "output_type": "display_data"
    }
   ],
   "source": [
    "fig, ax = plt.subplots(1, 1, figsize=(7, 7))\n",
    "plt.axis('equal')\n",
    "stats.probplot(survey_df['GPA'], plot=sns.mpl.pyplot, sparams=(gpa_mean, gpa_std), fit=False)\n",
    "plt.plot(plt.ylim(), plt.ylim())\n",
    "plt.title('QQ-Plot for GPA');\n",
    "# plt.savefig('images/Figure6.png')"
   ]
  },
  {
   "cell_type": "markdown",
   "id": "dd41c959",
   "metadata": {},
   "source": [
    "From the above outputs we can conclude that the GPA variable in the Survey dataset approximately follows a\n",
    "normal distribution. This can also be verified from the histogram in Figure 5."
   ]
  },
  {
   "cell_type": "markdown",
   "id": "e7ec6192-bffe-43d7-bc83-9fe05fdc267f",
   "metadata": {},
   "source": [
    "### Distribution of Salary"
   ]
  },
  {
   "cell_type": "code",
   "execution_count": 40,
   "id": "d146622b-adac-482b-8b04-7319ca0c471c",
   "metadata": {
    "ExecuteTime": {
     "end_time": "2023-01-10T13:52:43.845215Z",
     "start_time": "2023-01-10T13:52:43.831216Z"
    }
   },
   "outputs": [
    {
     "name": "stdout",
     "output_type": "stream",
     "text": [
      "For the Salary variable:\n",
      "Mean = 48.5\n",
      "Median = 50.0\n",
      "Mode = 40.0\n"
     ]
    }
   ],
   "source": [
    "salary_mean = survey_df['Salary'].mean()\n",
    "salary_median = survey_df['Salary'].median()\n",
    "salary_mode = survey_df['Salary'].mode()\n",
    "salary_std = survey_df['Salary'].std()\n",
    "print(f\"For the Salary variable:\\n\"\n",
    "      f\"Mean = {round(salary_mean, 1)}\\n\"\n",
    "      f\"Median = {round(salary_median, 1)}\\n\"\n",
    "      f\"Mode = {salary_mode[0]}\")"
   ]
  },
  {
   "cell_type": "code",
   "execution_count": 41,
   "id": "e8217c9c-a68d-47ef-a105-761097e3a294",
   "metadata": {
    "ExecuteTime": {
     "end_time": "2023-01-10T13:52:44.014231Z",
     "start_time": "2023-01-10T13:52:43.847221Z"
    }
   },
   "outputs": [
    {
     "data": {
      "image/png": "[encoded data removed]",
      "text/plain": [
       "<Figure size 700x700 with 1 Axes>"
      ]
     },
     "metadata": {},
     "output_type": "display_data"
    }
   ],
   "source": [
    "fig, ax = plt.subplots(1, 1, figsize=(7, 7))\n",
    "plt.axis('equal')\n",
    "stats.probplot(survey_df['Salary'], plot=sns.mpl.pyplot, sparams=(salary_mean, salary_std), fit=False)\n",
    "plt.plot(plt.ylim(), plt.ylim())\n",
    "plt.title('QQ-Plot for Salary');\n",
    "# plt.savefig('images/Figure7.png')"
   ]
  },
  {
   "cell_type": "markdown",
   "id": "5e7923cd",
   "metadata": {},
   "source": [
    "The mean, median and mode of Salary are very different from each other but its QQ-Plot is close to the\n",
    "straight line. Hence the Salary variable approximately follows a normal distribution. This can also be verified\n",
    "from the histogram in Figure 5."
   ]
  },
  {
   "cell_type": "markdown",
   "id": "1f030f77-78ea-4ba0-b035-cd546a41918d",
   "metadata": {},
   "source": [
    "### Distribution of Spending"
   ]
  },
  {
   "cell_type": "code",
   "execution_count": 42,
   "id": "7aee5519-e2a7-40c7-a4ae-86f9878806b2",
   "metadata": {
    "ExecuteTime": {
     "end_time": "2023-01-10T13:52:44.029230Z",
     "start_time": "2023-01-10T13:52:44.016232Z"
    }
   },
   "outputs": [
    {
     "name": "stdout",
     "output_type": "stream",
     "text": [
      "For the Spending variable:\n",
      "Mean = 482.0\n",
      "Median = 500.0\n",
      "Mode = 500\n"
     ]
    }
   ],
   "source": [
    "spend_mean = survey_df['Spending'].mean()\n",
    "spend_median = survey_df['Spending'].median()\n",
    "spend_mode = survey_df['Spending'].mode()\n",
    "spend_std = survey_df['Spending'].std()\n",
    "print(f\"For the Spending variable:\\n\"\n",
    "      f\"Mean = {round(spend_mean, 1)}\\n\"\n",
    "      f\"Median = {round(spend_median, 1)}\\n\"\n",
    "      f\"Mode = {spend_mode[0]}\")"
   ]
  },
  {
   "cell_type": "code",
   "execution_count": 43,
   "id": "7f36b198-5a38-4051-b898-c3f0b864f970",
   "metadata": {
    "ExecuteTime": {
     "end_time": "2023-01-10T13:52:44.219245Z",
     "start_time": "2023-01-10T13:52:44.031233Z"
    }
   },
   "outputs": [
    {
     "data": {
      "image/png": "[encoded data removed]",
      "text/plain": [
       "<Figure size 700x700 with 1 Axes>"
      ]
     },
     "metadata": {},
     "output_type": "display_data"
    }
   ],
   "source": [
    "fig, ax = plt.subplots(1, 1, figsize=(7, 7))\n",
    "plt.axis('equal')\n",
    "stats.probplot(survey_df['Spending'], plot=sns.mpl.pyplot, sparams=(spend_mean, spend_std), fit=False)\n",
    "plt.plot(plt.ylim(), plt.ylim())\n",
    "plt.title('QQ-Plot for Spending');\n",
    "# plt.savefig('images/Figure8.png')"
   ]
  },
  {
   "cell_type": "markdown",
   "id": "03a86981",
   "metadata": {},
   "source": [
    "Even though the mean, median and mode of Spending are close to each other, its QQ-Plot varies a lot from the\n",
    "straight line. Hence the Spending variable does not follow a normal distribution. This can also be verified from\n",
    "the histogram in Figure 5."
   ]
  },
  {
   "cell_type": "markdown",
   "id": "e7907847-2bf7-4be5-bc94-e16a0ef3be3a",
   "metadata": {},
   "source": [
    "### Distribution of Text Messages"
   ]
  },
  {
   "cell_type": "code",
   "execution_count": 44,
   "id": "a99249c4-6d09-4656-bfb0-c6754a6866cb",
   "metadata": {
    "ExecuteTime": {
     "end_time": "2023-01-10T13:52:44.234247Z",
     "start_time": "2023-01-10T13:52:44.221247Z"
    }
   },
   "outputs": [
    {
     "name": "stdout",
     "output_type": "stream",
     "text": [
      "For the Text Messages variable:\n",
      "Mean = 246.2\n",
      "Median = 200.0\n",
      "Mode = 300\n"
     ]
    }
   ],
   "source": [
    "sms_mean = survey_df['Text Messages'].mean()\n",
    "sms_median = survey_df['Text Messages'].median()\n",
    "sms_mode = survey_df['Text Messages'].mode()\n",
    "sms_std = survey_df['Text Messages'].std()\n",
    "print(f\"For the Text Messages variable:\\n\"\n",
    "      f\"Mean = {round(sms_mean, 1)}\\n\"\n",
    "      f\"Median = {round(sms_median, 1)}\\n\"\n",
    "      f\"Mode = {sms_mode[0]}\")"
   ]
  },
  {
   "cell_type": "code",
   "execution_count": 45,
   "id": "7c308586-8002-4615-afdc-3872df15753a",
   "metadata": {
    "ExecuteTime": {
     "end_time": "2023-01-10T13:52:44.409260Z",
     "start_time": "2023-01-10T13:52:44.236251Z"
    }
   },
   "outputs": [
    {
     "data": {
      "image/png": "[encoded data removed]",
      "text/plain": [
       "<Figure size 700x700 with 1 Axes>"
      ]
     },
     "metadata": {},
     "output_type": "display_data"
    }
   ],
   "source": [
    "fig, ax = plt.subplots(1, 1, figsize=(7, 7))\n",
    "plt.axis('equal')\n",
    "stats.probplot(survey_df['Text Messages'], plot=sns.mpl.pyplot, sparams=(sms_mean, sms_std), fit=False)\n",
    "plt.plot(plt.ylim(), plt.ylim())\n",
    "plt.title('QQ-Plot for Text Messages');\n",
    "# plt.savefig('images/Figure9.png')"
   ]
  },
  {
   "cell_type": "markdown",
   "id": "3fa5a5ff",
   "metadata": {},
   "source": [
    "As the mean, median and mode of Text Messages variable are very different from each other and its QQ-Plot is\n",
    "not close to the straight line, the Text Messages variable does not follow a normal distribution. This can also be\n",
    "verified from the histogram in Figure 5."
   ]
  },
  {
   "cell_type": "markdown",
   "id": "c13d3c2e-daac-4a21-a70a-43d99ee37747",
   "metadata": {
    "tags": []
   },
   "source": [
    "# Problem 3"
   ]
  },
  {
   "cell_type": "markdown",
   "id": "cb931120",
   "metadata": {},
   "source": [
    "An important quality characteristic used by the manufacturers of ABC asphalt shingles is the amount of moisture the shingles contain when they are packaged. Customers may feel that they have purchased a product lacking in quality if they find moisture and wet shingles inside the packaging.   In some cases, excessive moisture can cause the granules attached to the shingles for texture and coloring purposes to fall off the shingles resulting in appearance problems. To monitor the amount of moisture present, the company conducts moisture tests. A shingle is weighed and then dried. The shingle is then reweighed, and based on the amount of moisture taken out of the product, the pounds of moisture per 100 square feet are calculated. The company would like to show that the mean moisture content is less than 0.35 pounds per 100 square feet.\n",
    "\n",
    "The file (A & B shingles.csv) includes 36 measurements (in pounds per 100 square feet) for A shingles and 31 for B shingles."
   ]
  },
  {
   "cell_type": "markdown",
   "id": "c65c3619",
   "metadata": {},
   "source": [
    "## Sample of the A & B Shingles Dataset"
   ]
  },
  {
   "cell_type": "code",
   "execution_count": 46,
   "id": "7c192d9b",
   "metadata": {
    "ExecuteTime": {
     "end_time": "2023-01-10T13:52:44.440265Z",
     "start_time": "2023-01-10T13:52:44.412262Z"
    }
   },
   "outputs": [
    {
     "data": {
      "text/html": [
       "<div>\n",
       "<style scoped>\n",
       "    .dataframe tbody tr th:only-of-type {\n",
       "        vertical-align: middle;\n",
       "    }\n",
       "\n",
       "    .dataframe tbody tr th {\n",
       "        vertical-align: top;\n",
       "    }\n",
       "\n",
       "    .dataframe thead th {\n",
       "        text-align: right;\n",
       "    }\n",
       "</style>\n",
       "<table border=\"1\" class=\"dataframe\">\n",
       "  <thead>\n",
       "    <tr style=\"text-align: right;\">\n",
       "      <th></th>\n",
       "      <th>A</th>\n",
       "      <th>B</th>\n",
       "    </tr>\n",
       "  </thead>\n",
       "  <tbody>\n",
       "    <tr>\n",
       "      <th>0</th>\n",
       "      <td>0.44</td>\n",
       "      <td>0.14</td>\n",
       "    </tr>\n",
       "    <tr>\n",
       "      <th>1</th>\n",
       "      <td>0.61</td>\n",
       "      <td>0.15</td>\n",
       "    </tr>\n",
       "    <tr>\n",
       "      <th>2</th>\n",
       "      <td>0.47</td>\n",
       "      <td>0.31</td>\n",
       "    </tr>\n",
       "    <tr>\n",
       "      <th>3</th>\n",
       "      <td>0.30</td>\n",
       "      <td>0.16</td>\n",
       "    </tr>\n",
       "    <tr>\n",
       "      <th>4</th>\n",
       "      <td>0.15</td>\n",
       "      <td>0.37</td>\n",
       "    </tr>\n",
       "  </tbody>\n",
       "</table>\n",
       "</div>"
      ],
      "text/plain": [
       "      A     B\n",
       "0  0.44  0.14\n",
       "1  0.61  0.15\n",
       "2  0.47  0.31\n",
       "3  0.30  0.16\n",
       "4  0.15  0.37"
      ]
     },
     "execution_count": 46,
     "metadata": {},
     "output_type": "execute_result"
    }
   ],
   "source": [
    "shingles_df = pd.read_csv('datasets/A+&+B+shingles.csv')\n",
    "shingles_df.head()"
   ]
  },
  {
   "cell_type": "markdown",
   "id": "65e6cbde",
   "metadata": {},
   "source": [
    "## Checking the types of variables in the dataset."
   ]
  },
  {
   "cell_type": "code",
   "execution_count": 47,
   "id": "966d271e",
   "metadata": {
    "ExecuteTime": {
     "end_time": "2023-01-10T13:52:44.455269Z",
     "start_time": "2023-01-10T13:52:44.442270Z"
    }
   },
   "outputs": [
    {
     "name": "stdout",
     "output_type": "stream",
     "text": [
      "<class 'pandas.core.frame.DataFrame'>\n",
      "RangeIndex: 36 entries, 0 to 35\n",
      "Data columns (total 2 columns):\n",
      " #   Column  Non-Null Count  Dtype  \n",
      "---  ------  --------------  -----  \n",
      " 0   A       36 non-null     float64\n",
      " 1   B       31 non-null     float64\n",
      "dtypes: float64(2)\n",
      "memory usage: 704.0 bytes\n"
     ]
    }
   ],
   "source": [
    "shingles_df.info()"
   ]
  },
  {
   "cell_type": "markdown",
   "id": "163b7004",
   "metadata": {},
   "source": [
    "## Checking the distribution of both variables in the Shingles dataset."
   ]
  },
  {
   "cell_type": "code",
   "execution_count": 48,
   "id": "b1496b91",
   "metadata": {
    "ExecuteTime": {
     "end_time": "2023-01-10T13:52:44.802471Z",
     "start_time": "2023-01-10T13:52:44.458271Z"
    }
   },
   "outputs": [
    {
     "data": {
      "image/png": "[encoded data removed]",
      "text/plain": [
       "<Figure size 1000x500 with 2 Axes>"
      ]
     },
     "metadata": {},
     "output_type": "display_data"
    }
   ],
   "source": [
    "axs = shingles_df.hist(figsize=(10, 5))\n",
    "for ax in axs.flatten():\n",
    "    ax.set_ylabel(\"Frequency\", size=15)\n",
    "plt.suptitle('Distribution of Variables in Shingles dataset', size=17)\n",
    "plt.tight_layout();\n",
    "# plt.savefig('images/Figure10.svg')"
   ]
  },
  {
   "cell_type": "markdown",
   "id": "7109fcab",
   "metadata": {},
   "source": [
    "## 3.1 Do you think there is evidence that mean moisture contents in both types of shingles are within the permissible limits? State your conclusions clearly showing all steps."
   ]
  },
  {
   "cell_type": "markdown",
   "id": "c19087de",
   "metadata": {},
   "source": [
    "### Hypothesis test for A shingles"
   ]
  },
  {
   "cell_type": "code",
   "execution_count": 49,
   "id": "0f8c0e88",
   "metadata": {
    "ExecuteTime": {
     "end_time": "2023-01-10T13:52:44.817479Z",
     "start_time": "2023-01-10T13:52:44.805479Z"
    }
   },
   "outputs": [
    {
     "name": "stdout",
     "output_type": "stream",
     "text": [
      "t_statistic = -1.4735046253382782 and p_value = 0.9252236685509249\n"
     ]
    }
   ],
   "source": [
    "# using \"alternative = 'greater'\" for right-tailed t-test.\n",
    "t_stat, p_value = stats.ttest_1samp(shingles_df['A'], popmean=0.35, alternative='greater')\n",
    "print(f\"t_statistic = {t_stat} and p_value = {p_value}\")"
   ]
  },
  {
   "cell_type": "markdown",
   "id": "1b31f588",
   "metadata": {},
   "source": [
    "### Hypothesis test for B shingles"
   ]
  },
  {
   "cell_type": "code",
   "execution_count": 50,
   "id": "39ad37b2",
   "metadata": {
    "ExecuteTime": {
     "end_time": "2023-01-10T13:52:44.833481Z",
     "start_time": "2023-01-10T13:52:44.819482Z"
    }
   },
   "outputs": [
    {
     "name": "stdout",
     "output_type": "stream",
     "text": [
      "t_statistic = -3.1003313069986995 and p_value = 0.9979095225996808\n"
     ]
    }
   ],
   "source": [
    "# using \"alternative = 'greater'\" for right-tailed t-test.\n",
    "t_stat, p_value = stats.ttest_1samp(shingles_df['B'].dropna(), popmean=0.35, alternative='greater')\n",
    "print(f\"t_statistic = {t_stat} and p_value = {p_value}\")"
   ]
  },
  {
   "cell_type": "markdown",
   "id": "1439ff45",
   "metadata": {},
   "source": [
    "## 3.2 Do you think that the population mean for shingles A and B are equal? Form the hypothesis and conduct the test of the hypothesis. What assumption do you need to check before the test for equality of means is performed?"
   ]
  },
  {
   "cell_type": "markdown",
   "id": "33c330b5",
   "metadata": {},
   "source": [
    "To perform a 2-sample t-test, we assume that the sample variance of both the samples are equal."
   ]
  },
  {
   "cell_type": "code",
   "execution_count": 51,
   "id": "e5bc45ee",
   "metadata": {
    "ExecuteTime": {
     "end_time": "2023-01-10T13:52:44.849481Z",
     "start_time": "2023-01-10T13:52:44.835483Z"
    }
   },
   "outputs": [
    {
     "name": "stdout",
     "output_type": "stream",
     "text": [
      "The ratio of the variance of both samples is 0.9773231765154546.\n",
      "As the ratio is close to 1 we can proceed we the 2-sample t-test.\n"
     ]
    }
   ],
   "source": [
    "A_var = shingles_df['A'].var(skipna=True)\n",
    "B_var = shingles_df['B'].var(skipna=True)\n",
    "print(f'The ratio of the variance of both samples is {A_var / B_var}.\\n'\n",
    "      f'As the ratio is close to 1 we can proceed we the 2-sample t-test.')"
   ]
  },
  {
   "cell_type": "markdown",
   "id": "232ff77e",
   "metadata": {},
   "source": [
    "### Hypothesis Test"
   ]
  },
  {
   "cell_type": "code",
   "execution_count": 52,
   "id": "4cb03000",
   "metadata": {
    "ExecuteTime": {
     "end_time": "2023-01-10T13:52:44.865485Z",
     "start_time": "2023-01-10T13:52:44.851483Z"
    }
   },
   "outputs": [
    {
     "name": "stdout",
     "output_type": "stream",
     "text": [
      "t_statistic = 1.2896282719661123 and p_value = 0.20174965718353277\n"
     ]
    }
   ],
   "source": [
    "t_stat, p_value = stats.ttest_ind(shingles_df['A'], shingles_df['B'], nan_policy='omit')\n",
    "print(f\"t_statistic = {t_stat} and p_value = {p_value}\")"
   ]
  }
 ],
 "metadata": {
  "hide_input": false,
  "jupyter-docx-bundler": {
   "exclude_input": "True"
  },
  "kernelspec": {
   "display_name": "Python 3 (ipykernel)",
   "language": "python",
   "name": "python3"
  },
  "language_info": {
   "codemirror_mode": {
    "name": "ipython",
    "version": 3
   },
   "file_extension": ".py",
   "mimetype": "text/x-python",
   "name": "python",
   "nbconvert_exporter": "python",
   "pygments_lexer": "ipython3",
   "version": "3.9.15"
  },
  "toc": {
   "base_numbering": 1,
   "nav_menu": {},
   "number_sections": false,
   "sideBar": true,
   "skip_h1_title": false,
   "title_cell": "Table of Contents",
   "title_sidebar": "Contents",
   "toc_cell": false,
   "toc_position": {},
   "toc_section_display": true,
   "toc_window_display": false
  },
  "toc-autonumbering": false,
  "toc-showcode": false,
  "toc-showmarkdowntxt": false,
  "toc-showtags": false,
  "varInspector": {
   "cols": {
    "lenName": 16,
    "lenType": 16,
    "lenVar": 40
   },
   "kernels_config": {
    "python": {
     "delete_cmd_postfix": "",
     "delete_cmd_prefix": "del ",
     "library": "var_list.py",
     "varRefreshCmd": "print(var_dic_list())"
    },
    "r": {
     "delete_cmd_postfix": ") ",
     "delete_cmd_prefix": "rm(",
     "library": "var_list.r",
     "varRefreshCmd": "cat(var_dic_list()) "
    }
   },
   "oldHeight": 483.841,
   "position": {
    "height": "505.84px",
    "left": "722.36px",
    "right": "20px",
    "top": "102px",
    "width": "506px"
   },
   "types_to_exclude": [
    "module",
    "function",
    "builtin_function_or_method",
    "instance",
    "_Feature"
   ],
   "varInspector_section_display": "block",
   "window_display": false
  },
  "widgets": {
   "application/vnd.jupyter.widget-state+json": {
    "state": {},
    "version_major": 2,
    "version_minor": 0
   }
  }
 },
 "nbformat": 4,
 "nbformat_minor": 5
}
